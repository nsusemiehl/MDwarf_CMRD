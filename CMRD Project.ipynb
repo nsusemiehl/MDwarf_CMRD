{
 "cells": [
  {
   "cell_type": "code",
   "execution_count": 1,
   "metadata": {},
   "outputs": [
    {
     "data": {
      "image/png": "[encoded data removed]",
      "text/plain": [
       "<matplotlib.figure.Figure at 0x25454c58668>"
      ]
     },
     "metadata": {},
     "output_type": "display_data"
    }
   ],
   "source": [
    "# Importing / setting up direct imaging (DI) data\n",
    "import numpy as np\n",
    "import matplotlib.pyplot as plt\n",
    "dist_DI, angle_DI, m1_DI, m2_DI, spt_DI = np.genfromtxt('DI_data.txt', skip_header = 1, delimiter = ',', unpack = True, dtype=(float), usecols = (3, 4, 5, 6, 7))\n",
    "\n",
    "# calculating separation - by definition of parsec, separation = angular size * parsec\n",
    "sep_DI = dist_DI * angle_DI\n",
    "\n",
    "q_DI = np.zeros(70)\n",
    "q_DI = np.divide(m2_DI, m1_DI)\n",
    "\n",
    "plt.scatter(sep_DI, q_DI)\n",
    "plt.ylabel(\"q\")\n",
    "plt.xlabel(\"physical separation (au)\")\n",
    "plt.xscale('log')\n",
    "# plt.axhline(y=.3) # spt < 3.5\n",
    "plt.axhline(y=.6) # spt > 3.5\n",
    "plt.axvline(x=2.6)\n",
    "plt.axvline(x=29.5)\n",
    "plt.axvspan(2.6, 29.5, facecolor='g', alpha=.3)\n",
    "plt.axhspan(.6, 1, facecolor='g', alpha=0.3)\n",
    "plt.title(\"Direct Imaging Survey (Cortes-Contreras et. al. 2016)\")\n",
    "plt.show()"
   ]
  },
  {
   "cell_type": "code",
   "execution_count": 2,
   "metadata": {},
   "outputs": [
    {
     "name": "stdout",
     "output_type": "stream",
     "text": [
      "43\n"
     ]
    },
    {
     "data": {
      "image/png": "[encoded data removed]",
      "text/plain": [
       "<matplotlib.figure.Figure at 0x254573b47f0>"
      ]
     },
     "metadata": {},
     "output_type": "display_data"
    }
   ],
   "source": [
    "# finding index of values of sep beyond completeness limit\n",
    "sorted_sep_DI = np.sort(sep_DI)\n",
    "for pos, val in enumerate(sorted_sep_DI):\n",
    "    if val > 2.6:\n",
    "        complete_pos_sep = pos # = 4\n",
    "#         print(complete_pos_sep)\n",
    "        break \n",
    "for pos, val in enumerate(sorted_sep_DI):\n",
    "    if val > 29.5:\n",
    "        complete_pos_sep = pos # = 43\n",
    "        print(complete_pos_sep)\n",
    "        break  \n",
    "        \n",
    "# places associated q and s values together in one 2 row array\n",
    "# DI_data[0] = sep, [1] = q\n",
    "DI_data = np.stack((sep_DI, q_DI, spt_DI))\n",
    "\n",
    "# accounting for sep completion\n",
    "# sorts array of values by ascending sep, keeps associated values together\n",
    "a1 = DI_data[0,:].argsort() \n",
    "DI_data_sorted = DI_data[:,a1]\n",
    "\n",
    "# splicing off values beyond completeness limit using index found above, therefore accounting for completeness\n",
    "DI_data_complete1 = np.array([DI_data_sorted[i][4:43] for i in range(0,3)])\n",
    "\n",
    "# accounting for q completion\n",
    "# sorts array of values by ascending q, keeps associated values together\n",
    "a2 = DI_data_complete1[1,:].argsort() \n",
    "DI_data_sorted2 = DI_data_complete1[:,a2]\n",
    "\n",
    "# finding index of values of q beyond completeness limit\n",
    "sorted_q_DI = np.sort(DI_data_sorted2[1])\n",
    "for pos, val in enumerate(sorted_q_DI):\n",
    "    if val > .6:\n",
    "        complete_pos_DI = pos # = 13\n",
    "#         print(complete_pos_DI)\n",
    "        break\n",
    "\n",
    "# splicing off values beyond completeness limit using index found above, therefore accounting for completeness\n",
    "DI_data_complete = np.array([DI_data_sorted2[i][5:] for i in range(0,3)])\n",
    "\n",
    "# print(DI_data_complete)\n",
    "\n",
    "plt.scatter(DI_data_complete[0],DI_data_complete[1])\n",
    "plt.ylabel(\"q\")\n",
    "plt.xlabel(\"separation (au)\")\n",
    "plt.show()"
   ]
  },
  {
   "cell_type": "code",
   "execution_count": 3,
   "metadata": {},
   "outputs": [
    {
     "name": "stdout",
     "output_type": "stream",
     "text": [
      "[0.028733814982608876 0.7976326909574777 0.04658442059739402\n",
      " 0.22087331158006182 0.04475480868014641 0.036294678201237336]\n",
      "4.639037510000115\n"
     ]
    },
    {
     "data": {
      "image/png": "[encoded data removed]",
      "text/plain": [
       "<matplotlib.figure.Figure at 0x2545741ac18>"
      ]
     },
     "metadata": {},
     "output_type": "display_data"
    }
   ],
   "source": [
    "P_RV_days, e_RV, w_RV, k1_RV, k2_RV, v0_RV, m1_RV, m2_RV,sep_RV = np.loadtxt('RV_data.txt', skiprows = 2, delimiter = ',', unpack = True)\n",
    "\n",
    "G = 6.67 * 10**-11 # m**3 kg**-1 s**-2\n",
    "pi = 3.14159265359\n",
    "\n",
    "# unit conversion\n",
    "P_RV_secs = P_RV_days * 86400 # days to seconds\n",
    "m1_RV_kg = m1_RV * 2*10**30 # Msun to kg\n",
    "m2_RV_kg = m2_RV * 2*10**30 # Msun to kg\n",
    "\n",
    "# separation calculation - sep = ((P**2G(m1+m2))/2pi**2)**(1/3)\n",
    "sep_RV_m = ((((P_RV_secs**2)*G*(m1_RV_kg+m2_RV_kg))/(4*pi**2))**(1/3))\n",
    "sep_RV = sep_RV_m * 6.685*10**-12\n",
    "print(sep_RV)\n",
    "\n",
    "# separation detection limit calculation - sensitive to periods < 20 years and negligible companion mass, using mean mass of primaries and P = 20 years\n",
    "mean_mass_msun = sum(m1_RV) / len(m1_RV)\n",
    "mean_mass_kg = mean_mass_msun * 2*10**30\n",
    "period_limit = 6.307 * 10**8 # 20 years in seconds\n",
    "sep_complete_m = ((((period_limit**2)*G*mean_mass_kg)/(4*pi**2))**(1/3))\n",
    "sep_complete_au = sep_complete_m * 6.68459*10**-12 # m to au\n",
    "print(sep_complete_au) # = 4.6\n",
    "\n",
    "\n",
    "q_RV = np.divide(m2_RV,m1_RV)\n",
    "\n",
    "plt.scatter(sep_RV, q_RV)\n",
    "plt.ylabel(\"q\")\n",
    "plt.xlabel(\"separation (au)\")\n",
    "plt.axvline(x=4.6)\n",
    "plt.axvspan(0, 4.6, facecolor='g', alpha=.3)\n",
    "plt.title(\"Radial Velocity Survey (Delfosse et. al. 1998)\")\n",
    "plt.show()\n",
    "\n",
    "RV_data = np.stack((sep_RV,q_RV))"
   ]
  },
  {
   "cell_type": "code",
   "execution_count": 4,
   "metadata": {},
   "outputs": [
    {
     "name": "stdout",
     "output_type": "stream",
     "text": [
      "1\n"
     ]
    },
    {
     "data": {
      "image/png": "[encoded data removed]",
      "text/plain": [
       "<matplotlib.figure.Figure at 0x254573f8128>"
      ]
     },
     "metadata": {},
     "output_type": "display_data"
    },
    {
     "name": "stdout",
     "output_type": "stream",
     "text": [
      "[[0.028733814982608876 0.7976326909574777 0.04658442059739402\n",
      "  0.22087331158006182 0.04475480868014641 0.036294678201237336]\n",
      " [0.5714285714285714 0.6712643678160919 0.821705426356589 0.979757085020243\n",
      "  0.9535864978902955 0.9209302325581395]]\n",
      "[[0.7976326909574777 0.04658442059739402 0.036294678201237336\n",
      "  0.04475480868014641 0.22087331158006182]\n",
      " [0.6712643678160919 0.821705426356589 0.9209302325581395\n",
      "  0.9535864978902955 0.979757085020243]]\n"
     ]
    }
   ],
   "source": [
    "sorted_q_RV = np.sort(q_RV)\n",
    "for pos, val in enumerate(sorted_q_RV):\n",
    "    if val > .6:\n",
    "        complete_pos_q = pos # = 1\n",
    "        print(complete_pos_q)\n",
    "        break \n",
    "\n",
    "# accounting for sep completion\n",
    "# sorts array of values by ascending sep, keeps associated values together\n",
    "a2 = RV_data[1,:].argsort() \n",
    "RV_data_sorted = RV_data[:,a2]\n",
    "\n",
    "# splicing off values beyond completeness limit using index found above, therefore accounting for completeness\n",
    "RV_data_complete = np.array([RV_data_sorted[i][1:] for i in range(0,2)])\n",
    "\n",
    "plt.scatter(RV_data_complete[0], RV_data_complete[1])\n",
    "plt.ylabel(\"q\")\n",
    "plt.xlabel(\"separation (au)\")\n",
    "\n",
    "plt.show()\n",
    "\n",
    "print(RV_data)\n",
    "print(RV_data_complete)"
   ]
  },
  {
   "cell_type": "code",
   "execution_count": 5,
   "metadata": {},
   "outputs": [
    {
     "name": "stdout",
     "output_type": "stream",
     "text": [
      "Ks_2sampResult(statistic=0.48235294117647054, pvalue=0.18536640504452792)\n"
     ]
    }
   ],
   "source": [
    "from scipy import stats as sci\n",
    "print(sci.ks_2samp(DI_data_complete[1],RV_data_complete[1]))\n",
    "# p is large - accept the null hypothesis that two samples are drawn from same distribution"
   ]
  },
  {
   "cell_type": "code",
   "execution_count": 79,
   "metadata": {},
   "outputs": [
    {
     "name": "stdout",
     "output_type": "stream",
     "text": [
      "0.06938775510204082 0.043478260869565216\n"
     ]
    },
    {
     "data": {
      "image/png": "[encoded data removed]",
      "text/plain": [
       "<matplotlib.figure.Figure at 0x25456fbe7f0>"
      ]
     },
     "metadata": {},
     "output_type": "display_data"
    },
    {
     "name": "stdout",
     "output_type": "stream",
     "text": [
      "0.06008696882839956 0.30836602384107153\n",
      "1.1547887413026787 0.14099562697599083\n"
     ]
    }
   ],
   "source": [
    "import scipy.integrate as integrate\n",
    "from math import log10, gamma\n",
    "from scipy.stats import poisson\n",
    "\n",
    "parent_DI = 490\n",
    "parent_RV = 115\n",
    "companions_DI = DI_data_complete[1].size # q > .6\n",
    "companions_RV = RV_data_complete[1].size # q > .6\n",
    "frequency_DI = companions_DI / parent_DI\n",
    "frequency_RV = companions_RV / parent_RV\n",
    "frequencies = np.array((frequency_DI,frequency_RV))\n",
    "\n",
    "# print(DI_data_complete[0],RV_data_complete[0])\n",
    "\n",
    "# observed separations within completion\n",
    "a_min_DI = 2.7642\n",
    "a_max_DI = 26.46\n",
    "a_min_RV = .0363\n",
    "a_max_RV = .7976\n",
    "\n",
    "# # complete separations\n",
    "# a_min_DI = 2.6\n",
    "# a_max_DI = 29.5\n",
    "# a_min_RV = .01\n",
    "# a_max_RV = 4.6\n",
    "\n",
    "print(frequency_DI, frequency_RV)\n",
    "\n",
    "e = 2.718\n",
    "\n",
    "avg_a = 1 # AU, average semi-major axis from Meyer \n",
    "x = []\n",
    "x_range = []\n",
    "pois = []\n",
    "\n",
    "for i in np.arange(.028,489.09):\n",
    "    x = log10(i)\n",
    "    pois.append(((avg_a**x)*e**(-avg_a)) / gamma(x + 1))\n",
    "    x_range.append(i)\n",
    "    \n",
    "# pois = poisson.pmf(x,avg_a)\n",
    "\n",
    "plt.plot(x_range,pois)\n",
    "plt.ylim(0)\n",
    "plt.xscale('log')\n",
    "plt.axvline(a_min_DI)\n",
    "plt.axvline(a_max_DI)\n",
    "plt.axvline(a_min_RV)\n",
    "plt.axvline(a_max_RV)\n",
    "plt.axvspan(a_min_DI, a_max_DI, facecolor='g', alpha=.3)\n",
    "plt.axvspan(a_min_RV, a_max_RV, facecolor='r', alpha=.3)\n",
    "plt.xlabel(\"log(a)\")\n",
    "plt.show()\n",
    "\n",
    "# print(x,pois)\n",
    "\n",
    "f_DI = integrate.quad(lambda x: ((avg_a**x)*e**(-avg_a)) / gamma(x + 1), a_min_DI,a_max_DI)\n",
    "f_RV = integrate.quad(lambda x: ((avg_a**x)*e**(-avg_a)) / gamma(x + 1), a_min_RV,a_max_RV)\n",
    "\n",
    "print(f_DI[0],f_RV[0])\n",
    "\n",
    "A_DI = frequency_DI / f_DI[0]\n",
    "A_RV = frequency_RV / f_RV[0]\n",
    "\n",
    "print(A_DI, A_RV)"
   ]
  },
  {
   "cell_type": "code",
   "execution_count": 78,
   "metadata": {},
   "outputs": [
    {
     "name": "stdout",
     "output_type": "stream",
     "text": [
      "[0.6712643678160919 0.821705426356589 0.9209302325581395 0.9535864978902955\n",
      " 0.979757085020243]\n"
     ]
    }
   ],
   "source": [
    "print(RV_data_complete[1])"
   ]
  }
 ],
 "metadata": {
  "kernelspec": {
   "display_name": "Python 3",
   "language": "python",
   "name": "python3"
  },
  "language_info": {
   "codemirror_mode": {
    "name": "ipython",
    "version": 3
   },
   "file_extension": ".py",
   "mimetype": "text/x-python",
   "name": "python",
   "nbconvert_exporter": "python",
   "pygments_lexer": "ipython3",
   "version": "3.6.1"
  }
 },
 "nbformat": 4,
 "nbformat_minor": 2
}
