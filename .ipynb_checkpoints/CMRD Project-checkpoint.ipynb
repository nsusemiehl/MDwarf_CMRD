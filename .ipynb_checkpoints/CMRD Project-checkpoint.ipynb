{
 "cells": [
  {
   "cell_type": "code",
   "execution_count": 2,
   "metadata": {},
   "outputs": [
    {
     "data": {
      "image/png": "[encoded data removed]",
      "text/plain": [
       "<matplotlib.figure.Figure at 0x25b080ee4e0>"
      ]
     },
     "metadata": {},
     "output_type": "display_data"
    }
   ],
   "source": [
    "# Importing / setting up direct imaging (DI) data\n",
    "import numpy as np\n",
    "import matplotlib.pyplot as plt\n",
    "dist_DI, angle_DI, m1_DI, m2_DI, spt_DI = np.genfromtxt('DI_data.txt', skip_header = 1, delimiter = ',', unpack = True, dtype=(float), usecols = (3, 4, 5, 6, 7))\n",
    "\n",
    "# calculating separation - by definition of parsec, separation = angular size * parsec\n",
    "sep_DI = dist_DI * angle_DI\n",
    "\n",
    "q_DI = np.zeros(70)\n",
    "q_DI = np.divide(m2_DI, m1_DI)\n",
    "\n",
    "plt.scatter(sep_DI, q_DI)\n",
    "plt.ylabel(\"q\")\n",
    "plt.xlabel(\"physical separation (au)\")\n",
    "plt.xscale('log')\n",
    "# plt.axhline(y=.3) # spt < 3.5\n",
    "# plt.axhline(y=.6) # spt > 3.5\n",
    "# plt.axvline(x=2.6)\n",
    "# plt.axvline(x=29.5)\n",
    "plt.axvspan(2.6, 29.5, facecolor='g', alpha=.3)\n",
    "plt.axhspan(.6, 1, facecolor='g', alpha=0.3)\n",
    "plt.title(\"Direct Imaging Survey (Cortes-Contreras et. al. 2016)\")\n",
    "plt.show()"
   ]
  },
  {
   "cell_type": "code",
   "execution_count": 3,
   "metadata": {},
   "outputs": [
    {
     "name": "stdout",
     "output_type": "stream",
     "text": [
      "43\n"
     ]
    },
    {
     "data": {
      "image/png": "[encoded data removed]",
      "text/plain": [
       "<matplotlib.figure.Figure at 0x25b095cd6d8>"
      ]
     },
     "metadata": {},
     "output_type": "display_data"
    }
   ],
   "source": [
    "# finding index of values of sep beyond completeness limit\n",
    "sorted_sep_DI = np.sort(sep_DI)\n",
    "for pos, val in enumerate(sorted_sep_DI):\n",
    "    if val > 2.6:\n",
    "        complete_pos_sep = pos # = 4\n",
    "#         print(complete_pos_sep)\n",
    "        break \n",
    "for pos, val in enumerate(sorted_sep_DI):\n",
    "    if val > 29.5:\n",
    "        complete_pos_sep = pos # = 43\n",
    "        print(complete_pos_sep)\n",
    "        break  \n",
    "        \n",
    "# places associated q and s values together in one 2 row array\n",
    "# DI_data[0] = sep, [1] = q\n",
    "DI_data = np.stack((sep_DI, q_DI, spt_DI))\n",
    "\n",
    "# accounting for sep completion\n",
    "# sorts array of values by ascending sep, keeps associated values together\n",
    "a1 = DI_data[0,:].argsort() \n",
    "DI_data_sorted = DI_data[:,a1]\n",
    "\n",
    "# splicing off values beyond completeness limit using index found above, therefore accounting for completeness\n",
    "DI_data_complete1 = np.array([DI_data_sorted[i][4:43] for i in range(0,3)])\n",
    "\n",
    "# accounting for q completion\n",
    "# sorts array of values by ascending q, keeps associated values together\n",
    "a2 = DI_data_complete1[1,:].argsort() \n",
    "DI_data_sorted2 = DI_data_complete1[:,a2]\n",
    "\n",
    "# finding index of values of q beyond completeness limit\n",
    "sorted_q_DI = np.sort(DI_data_sorted2[1])\n",
    "for pos, val in enumerate(sorted_q_DI):\n",
    "    if val > .6:\n",
    "        complete_pos_DI = pos # = 13\n",
    "#         print(complete_pos_DI)\n",
    "        break\n",
    "\n",
    "# splicing off values beyond completeness limit using index found above, therefore accounting for completeness\n",
    "DI_data_complete = np.array([DI_data_sorted2[i][5:] for i in range(0,3)])\n",
    "\n",
    "# print(DI_data_complete)\n",
    "\n",
    "plt.scatter(DI_data_complete[0],DI_data_complete[1])\n",
    "plt.ylabel(\"q\")\n",
    "plt.xlabel(\"separation (au)\")\n",
    "plt.show()"
   ]
  },
  {
   "cell_type": "code",
   "execution_count": 4,
   "metadata": {},
   "outputs": [
    {
     "name": "stdout",
     "output_type": "stream",
     "text": [
      "[0.028733814982608876 0.7976326909574777 0.04658442059739402\n",
      " 0.22087331158006182 0.04475480868014641 0.036294678201237336]\n",
      "4.639037510000115\n"
     ]
    },
    {
     "data": {
      "image/png": "[encoded data removed]",
      "text/plain": [
       "<matplotlib.figure.Figure at 0x25b095bd128>"
      ]
     },
     "metadata": {},
     "output_type": "display_data"
    }
   ],
   "source": [
    "P_RV_days, e_RV, w_RV, k1_RV, k2_RV, v0_RV, m1_RV, m2_RV,sep_RV = np.loadtxt('RV_data.txt', skiprows = 2, delimiter = ',', unpack = True)\n",
    "\n",
    "G = 6.67 * 10**-11 # m**3 kg**-1 s**-2\n",
    "pi = 3.14159265359\n",
    "\n",
    "# unit conversion\n",
    "P_RV_secs = P_RV_days * 86400 # days to seconds\n",
    "m1_RV_kg = m1_RV * 2*10**30 # Msun to kg\n",
    "m2_RV_kg = m2_RV * 2*10**30 # Msun to kg\n",
    "\n",
    "# separation calculation - sep = ((P**2G(m1+m2))/2pi**2)**(1/3)\n",
    "sep_RV_m = ((((P_RV_secs**2)*G*(m1_RV_kg+m2_RV_kg))/(4*pi**2))**(1/3))\n",
    "sep_RV = sep_RV_m * 6.685*10**-12\n",
    "print(sep_RV)\n",
    "\n",
    "# separation detection limit calculation - sensitive to periods < 20 years and negligible companion mass, using mean mass of primaries and P = 20 years\n",
    "mean_mass_msun = sum(m1_RV) / len(m1_RV)\n",
    "mean_mass_kg = mean_mass_msun * 2*10**30\n",
    "period_limit = 6.307 * 10**8 # 20 years in seconds\n",
    "sep_complete_m = ((((period_limit**2)*G*mean_mass_kg)/(4*pi**2))**(1/3))\n",
    "sep_complete_au = sep_complete_m * 6.68459*10**-12 # m to au\n",
    "print(sep_complete_au) # = 4.6\n",
    "\n",
    "\n",
    "q_RV = np.divide(m2_RV,m1_RV)\n",
    "\n",
    "plt.scatter(sep_RV, q_RV)\n",
    "plt.ylabel(\"q\")\n",
    "plt.xlabel(\"separation (au)\")\n",
    "# plt.axvline(x=4.6)\n",
    "plt.axvspan(0, 4.6, facecolor='g', alpha=.3)\n",
    "plt.title(\"Radial Velocity Survey (Delfosse et. al. 1998)\")\n",
    "plt.show()\n",
    "\n",
    "RV_data = np.stack((sep_RV,q_RV))"
   ]
  },
  {
   "cell_type": "code",
   "execution_count": 5,
   "metadata": {},
   "outputs": [
    {
     "name": "stdout",
     "output_type": "stream",
     "text": [
      "1\n"
     ]
    },
    {
     "data": {
      "image/png": "[encoded data removed]",
      "text/plain": [
       "<matplotlib.figure.Figure at 0x25b095f1ef0>"
      ]
     },
     "metadata": {},
     "output_type": "display_data"
    },
    {
     "name": "stdout",
     "output_type": "stream",
     "text": [
      "[[0.028733814982608876 0.7976326909574777 0.04658442059739402\n",
      "  0.22087331158006182 0.04475480868014641 0.036294678201237336]\n",
      " [0.5714285714285714 0.6712643678160919 0.821705426356589 0.979757085020243\n",
      "  0.9535864978902955 0.9209302325581395]]\n",
      "[[0.7976326909574777 0.04658442059739402 0.036294678201237336\n",
      "  0.04475480868014641 0.22087331158006182]\n",
      " [0.6712643678160919 0.821705426356589 0.9209302325581395\n",
      "  0.9535864978902955 0.979757085020243]]\n"
     ]
    }
   ],
   "source": [
    "sorted_q_RV = np.sort(q_RV)\n",
    "for pos, val in enumerate(sorted_q_RV):\n",
    "    if val > .6:\n",
    "        complete_pos_q = pos # = 1\n",
    "        print(complete_pos_q)\n",
    "        break \n",
    "\n",
    "# accounting for sep completion\n",
    "# sorts array of values by ascending sep, keeps associated values together\n",
    "a2 = RV_data[1,:].argsort() \n",
    "RV_data_sorted = RV_data[:,a2]\n",
    "\n",
    "# splicing off values beyond completeness limit using index found above, therefore accounting for completeness\n",
    "RV_data_complete = np.array([RV_data_sorted[i][1:] for i in range(0,2)])\n",
    "\n",
    "plt.scatter(RV_data_complete[0], RV_data_complete[1])\n",
    "plt.ylabel(\"q\")\n",
    "plt.xlabel(\"separation (au)\")\n",
    "\n",
    "plt.show()\n",
    "\n",
    "print(RV_data)\n",
    "print(RV_data_complete)"
   ]
  },
  {
   "cell_type": "code",
   "execution_count": 6,
   "metadata": {},
   "outputs": [
    {
     "name": "stdout",
     "output_type": "stream",
     "text": [
      "Ks_2sampResult(statistic=0.48235294117647054, pvalue=0.18536640504452792)\n"
     ]
    }
   ],
   "source": [
    "from scipy import stats as sci\n",
    "print(sci.ks_2samp(DI_data_complete[1],RV_data_complete[1]))\n",
    "# p is large - accept the null hypothesis that two samples are drawn from same distribution"
   ]
  },
  {
   "cell_type": "code",
   "execution_count": 7,
   "metadata": {},
   "outputs": [
    {
     "name": "stdout",
     "output_type": "stream",
     "text": [
      "f_DI =  0.06938775510204082 f_RV =  0.043478260869565216\n"
     ]
    }
   ],
   "source": [
    "# observed separations within completion (AU)\n",
    "a_min_DI = 2.7642\n",
    "a_max_DI = 26.46\n",
    "a_min_RV = .0363\n",
    "a_max_RV = .7976\n",
    "\n",
    "# # complete separations\n",
    "# a_min_DI = 2.6\n",
    "# a_max_DI = 29.5\n",
    "# a_min_RV = .01\n",
    "# a_max_RV = 4.6\n",
    "\n",
    "parent_DI = 490\n",
    "parent_RV = 115\n",
    "companions_DI = DI_data_complete[1].size # q > .6\n",
    "companions_RV = RV_data_complete[1].size # q > .6\n",
    "f_DI = companions_DI / parent_DI\n",
    "f_RV = companions_RV / parent_RV\n",
    "\n",
    "print(\"f_DI = \", f_DI,\"f_RV = \", f_RV)"
   ]
  },
  {
   "cell_type": "code",
   "execution_count": 46,
   "metadata": {},
   "outputs": [
    {
     "name": "stdout",
     "output_type": "stream",
     "text": [
      "0.191895368638 0.306249343419 0.11435397478 1.0646\n",
      "0.191895318937 0.306249264099 0.114353945162 1.0647\n",
      "0.191895274133 0.306249192596 0.114353918463 1.0648\n",
      "0.191895234224 0.306249128905 0.114353894681 1.0649\n",
      "0.191895199209 0.306249073023 0.114353873814 1.065\n",
      "0.191895169084 0.306249024946 0.114353855862 1.0651\n",
      "0.191895143848 0.306248984671 0.114353840824 1.0652\n",
      "0.191895123498 0.306248952195 0.114353828697 1.0653\n",
      "0.191895108032 0.306248927513 0.11435381948 1.0654\n",
      "0.191895097449 0.306248910622 0.114353813173 1.0655\n",
      "0.191895091745 0.306248901519 0.114353809774 1.0656\n",
      "0.191895090918 0.3062489002 0.114353809282 1.0657\n",
      "0.191895094967 0.306248906662 0.114353811695 1.0658\n",
      "0.191895103889 0.3062489209 0.114353817011 1.0659\n",
      "0.191895117682 0.306248942912 0.114353825231 1.066\n",
      "0.191895136343 0.306248972695 0.114353836351 1.0661\n",
      "0.191895159871 0.306249010243 0.114353850372 1.0662\n",
      "0.191895188263 0.306249055554 0.114353867291 1.0663\n",
      "0.191895221517 0.306249108625 0.114353887108 1.0664\n",
      "0.191895259631 0.306249169452 0.114353909821 1.0665\n",
      "0.191895302602 0.306249238031 0.114353935428 1.0666\n",
      "0.191895350429 0.306249314359 0.114353963929 1.0667\n",
      "0.191895403109 0.306249398432 0.114353995322 1.0668\n"
     ]
    }
   ],
   "source": [
    "import scipy.integrate as integrate\n",
    "from math import log10, gamma\n",
    "import warnings\n",
    "warnings.simplefilter('ignore')\n",
    "\n",
    "e = 2.71828\n",
    "pi = 3.141593\n",
    "mean_loga = 1\n",
    "# dN = (e**((x-mean_loga)/(2*sigma**2))) / ((2*pi*sigma**2)**(1/2)), x=log(a)\n",
    "\n",
    "for i in np.arange(-2,3,.0001):\n",
    "    sigma = i\n",
    "#     int_DI = integrate.quad(lambda x: (e**((x-mean_loga)/(2*sigma**2))) / ((2*pi*sigma**2)**(1/2)), log10(a_min_DI),log10(a_max_DI))\n",
    "#     int_RV = integrate.quad(lambda x: (e**((x-mean_loga)/(2*sigma**2))) / ((2*pi*sigma**2)**(1/2)), log10(a_min_RV),log10(a_max_RV))\n",
    "#     N_DI = int_DI[0]\n",
    "#     N_RV = int_RV[0]\n",
    "    N = (2/pi)**(1/2) * (i)**(1/2) * e**((x-1)/(2*i**2))\n",
    "    N_DI_u = (2/pi)**(1/2) * (i)**(1/2) * e**((log10(a_max_DI)-1)/(2*i**2))\n",
    "    N_DI_l = (2/pi)**(1/2) * (i)**(1/2) * e**((log10(a_min_DI)-1)/(2*i**2))\n",
    "    N_DI = N_DI_u - N_DI_l\n",
    "    N_RV_u = (2/pi)**(1/2) * (i)**(1/2) * e**((log10(a_max_RV)-1)/(2*i**2))\n",
    "    N_RV_l = (2/pi)**(1/2) * (i)**(1/2) * e**((log10(a_min_RV)-1)/(2*i**2))\n",
    "    N_RV = N_RV_u - N_RV_l\n",
    "    if N_DI != 0 and N_RV != 0:\n",
    "        A12 = f_RV / N_RV\n",
    "        A34 = f_DI / N_RV\n",
    "        if abs(A12 - A34) < .114354:\n",
    "            print(A12,A34,abs(A12-A34), i)\n",
    "\n",
    "# for i in np.arange(-2,3,.0001):\n",
    "#     sigma = i\n",
    "#     N_DI_u = (2/pi)**(1/2) * (i)**(1/2) * e**((log10(a_max_DI)-1)/(2*i**2))\n",
    "#     N_DI_l = (2/pi)**(1/2) * (i)**(1/2) * e**((log10(a_min_DI)-1)/(2*i**2))\n",
    "#     N_DI = N_DI_u - N_DI_l\n",
    "#     N_RV_u = (2/pi)**(1/2) * (i)**(1/2) * e**((log10(a_max_RV)-1)/(2*i**2))\n",
    "#     N_RV_l = (2/pi)**(1/2) * (i)**(1/2) * e**((log10(a_min_RV)-1)/(2*i**2))\n",
    "#     N_RV = N_RV_u - N_RV_l\n",
    "#     for j in np.arange(0,1.0001):\n",
    "#         NA = N_RV * j\n",
    "#         NB = N_DI * j\n",
    "#         test = abs(NA-NB)\n",
    "#         if test < 10 and NA * j == f_RV and N34 * j == f_DI:\n",
    "#             print(i,j,test)\n",
    "        "
   ]
  },
  {
   "cell_type": "code",
   "execution_count": 8,
   "metadata": {},
   "outputs": [
    {
     "data": {
      "image/png": "[encoded data removed]",
      "text/plain": [
       "<matplotlib.figure.Figure at 0x25b0960ecc0>"
      ]
     },
     "metadata": {},
     "output_type": "display_data"
    }
   ],
   "source": [
    "\n",
    "x = []\n",
    "x_range = []\n",
    "gaus = []\n",
    "\n",
    "for i in np.arange(.028,489.09,.01):\n",
    "    x = log10(i)\n",
    "    gaus.append(e**((x-mean_loga)/(2*sigma**2)) / (2*pi*sigma**2)**(1/2))\n",
    "    x_range.append(i)\n",
    "\n",
    "fig, ax1 = plt.subplots()\n",
    "ax1.plot(x_range, pois, 'b-')\n",
    "ax1.set_xlabel('log(a)')\n",
    "ax1.set_ylabel('dN (Poisson Distribution)', color='b')\n",
    "ax1.tick_params('y', colors='b')\n",
    "# ax1.axvline(a_min_DI)\n",
    "# ax1.axvline(a_max_DI)\n",
    "# ax1.axvline(a_min_RV)\n",
    "# ax1.axvline(a_max_RV)\n",
    "ax1.axvspan(a_min_DI, a_max_DI, facecolor='grey', alpha=.3)\n",
    "ax1.axvspan(a_min_RV, a_max_RV, facecolor='silver', alpha=.3)\n",
    "ax1.set_ylim(0)\n",
    "ax1.annotate('RV Range', xy=(.08, .35))\n",
    "ax1.annotate('DI Range', xy=(3.5, .15))\n",
    "\n",
    "ax2 = ax1.twinx()\n",
    "# ax2.scatter(9.5,.069, c = 'red') # f_DI_data\n",
    "# ax2.scatter(.128,.043, c = 'red') # f_RV_data\n",
    "# ax2.errorbar(9.5, .069, xerr=5,color = 'red')\n",
    "# ax2.errorbar(.128, .043, xerr=.03,color = 'red')\n",
    "ax2.set_ylabel('f = int(dN) dlog(a)', color='r')\n",
    "DI_domain = []\n",
    "DI_range = np.arange(a_min_DI,a_max_DI,.01)\n",
    "for i in range(len(DI_range)):\n",
    "    DI_domain.append(f_DI)\n",
    "RV_domain = []\n",
    "RV_range = np.arange(a_min_RV,a_max_RV,.01)\n",
    "for i in range(len(RV_range)):\n",
    "    RV_domain.append(f_RV)\n",
    "ax2.plot(DI_range,DI_domain, c=\"red\")\n",
    "ax2.plot(RV_range,RV_domain, c=\"red\")\n",
    "ax2.tick_params('y', colors='r')\n",
    "ax2.set_ylim(0,.1)\n",
    "\n",
    "fig.tight_layout()\n",
    "plt.xscale('log')\n",
    "plt.title(\"Companion Frequency vs. Log of Semi-Major Axis, q > .6\")\n",
    "plt.show()"
   ]
  },
  {
   "cell_type": "code",
   "execution_count": 55,
   "metadata": {},
   "outputs": [
    {
     "name": "stdout",
     "output_type": "stream",
     "text": [
      "0.3628901080291575\n"
     ]
    }
   ],
   "source": [
    "lam = 1\n",
    "int_DI = integrate.quad(lambda x: ((lam**x)*e**(-lam)) / gamma(x + 1), log10(a_min_DI),log10(a_max_DI))\n",
    "print(int_DI[0])"
   ]
  }
 ],
 "metadata": {
  "kernelspec": {
   "display_name": "Python 3",
   "language": "python",
   "name": "python3"
  },
  "language_info": {
   "codemirror_mode": {
    "name": "ipython",
    "version": 3
   },
   "file_extension": ".py",
   "mimetype": "text/x-python",
   "name": "python",
   "nbconvert_exporter": "python",
   "pygments_lexer": "ipython3",
   "version": "3.6.1"
  }
 },
 "nbformat": 4,
 "nbformat_minor": 2
}
