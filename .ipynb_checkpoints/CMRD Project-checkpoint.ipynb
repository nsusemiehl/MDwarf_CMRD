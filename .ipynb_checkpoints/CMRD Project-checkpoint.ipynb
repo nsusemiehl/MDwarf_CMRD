{
 "cells": [
  {
   "cell_type": "code",
   "execution_count": 1,
   "metadata": {},
   "outputs": [],
   "source": [
    "from scipy import stats\n",
    "import numpy as np\n",
    "import matplotlib.pyplot as plt\n",
    "import statistics\n",
    "import math\n",
    "import scipy.integrate as integrate\n",
    "import warnings\n",
    "warnings.simplefilter('ignore')\n",
    "from scipy import stats as sci"
   ]
  },
  {
   "cell_type": "code",
   "execution_count": 2,
   "metadata": {},
   "outputs": [
    {
     "data": {
      "image/png": "[encoded data removed]",
      "text/plain": [
       "<Figure size 432x288 with 1 Axes>"
      ]
     },
     "metadata": {
      "needs_background": "light"
     },
     "output_type": "display_data"
    }
   ],
   "source": [
    "# Importing / setting up direct imaging (DI) data\n",
    "\n",
    "dist_DI, angle_DI, m1_DI, m2_DI, spt_DI = np.genfromtxt('data\\Cortes-Contreras_data.txt', skip_header = 1, delimiter = ',', unpack = True, dtype=(float), usecols = (3, 4, 5, 6, 7))\n",
    "m1_CC = m1_DI\n",
    "# calculating separation - by definition of parsec, separation = angular size * parsec\n",
    "sep_DI = dist_DI * angle_DI\n",
    "\n",
    "q_DI = np.zeros(70)\n",
    "q_DI = np.divide(m2_DI, m1_DI)\n",
    "\n",
    "plt.scatter(sep_DI, q_DI)\n",
    "plt.ylabel(\"q\")\n",
    "plt.xlabel(\"physical separation (au)\")\n",
    "plt.xscale('log')\n",
    "# plt.axhline(y=.3) # spt < 3.5\n",
    "# plt.axhline(y=.6) # spt > 3.5\n",
    "# plt.axvline(x=2.6)\n",
    "# plt.axvline(x=29.5)\n",
    "plt.axvspan(2.6, 29.5, facecolor='g', alpha=.3)\n",
    "plt.axhspan(.6, 1, facecolor='g', alpha=0.3)\n",
    "plt.title(\"Direct Imaging Survey (Cortes-Contreras et. al. 2016)\")\n",
    "plt.show()"
   ]
  },
  {
   "cell_type": "code",
   "execution_count": 3,
   "metadata": {},
   "outputs": [
    {
     "name": "stdout",
     "output_type": "stream",
     "text": [
      "43\n"
     ]
    },
    {
     "data": {
      "image/png": "[encoded data removed]",
      "text/plain": [
       "<Figure size 432x288 with 1 Axes>"
      ]
     },
     "metadata": {
      "needs_background": "light"
     },
     "output_type": "display_data"
    }
   ],
   "source": [
    "# finding index of values of sep beyond completeness limit\n",
    "sorted_sep_DI = np.sort(sep_DI)\n",
    "for pos, val in enumerate(sorted_sep_DI):\n",
    "    if val > 2.6:\n",
    "        complete_pos_sep = pos # = 4\n",
    "#         print(complete_pos_sep)\n",
    "        break \n",
    "for pos, val in enumerate(sorted_sep_DI):\n",
    "    if val > 29.5:\n",
    "        complete_pos_sep = pos # = 43\n",
    "        print(complete_pos_sep)\n",
    "        break  \n",
    "        \n",
    "# places associated q and s values together in one 2 row array\n",
    "# DI_data[0] = sep, [1] = q\n",
    "DI_data = np.stack((sep_DI, q_DI, spt_DI))\n",
    "\n",
    "# accounting for sep completion\n",
    "# sorts array of values by ascending sep, keeps associated values together\n",
    "a1 = DI_data[0,:].argsort() \n",
    "DI_data_sorted = DI_data[:,a1]\n",
    "\n",
    "# splicing off values beyond completeness limit using index found above, therefore accounting for completeness\n",
    "DI_data_complete1 = np.array([DI_data_sorted[i][4:43] for i in range(0,3)])\n",
    "\n",
    "# accounting for q completion\n",
    "# sorts array of values by ascending q, keeps associated values together\n",
    "a2 = DI_data_complete1[1,:].argsort() \n",
    "DI_data_sorted2 = DI_data_complete1[:,a2]\n",
    "\n",
    "# finding index of values of q beyond completeness limit\n",
    "sorted_q_DI = np.sort(DI_data_sorted2[1])\n",
    "for pos, val in enumerate(sorted_q_DI):\n",
    "    if val > .6:\n",
    "        complete_pos_DI = pos # = 13\n",
    "#         print(complete_pos_DI)\n",
    "        break\n",
    "\n",
    "# splicing off values beyond completeness limit using index found above, therefore accounting for completeness\n",
    "CC_data_complete = np.array([DI_data_sorted2[i][5:] for i in range(0,3)])\n",
    "\n",
    "# print(DI_data_complete)\n",
    "\n",
    "plt.scatter(CC_data_complete[0],CC_data_complete[1])\n",
    "plt.ylabel(\"q\")\n",
    "plt.xlabel(\"separation (au)\")\n",
    "plt.show()"
   ]
  },
  {
   "cell_type": "code",
   "execution_count": 4,
   "metadata": {},
   "outputs": [
    {
     "name": "stdout",
     "output_type": "stream",
     "text": [
      "[0.028733814982608876 0.7976326909574777 0.04658442059739402\n",
      " 0.22087331158006182 0.04475480868014641 0.036294678201237336]\n",
      "4.639037510000115\n"
     ]
    },
    {
     "data": {
      "image/png": "[encoded data removed]",
      "text/plain": [
       "<Figure size 432x288 with 1 Axes>"
      ]
     },
     "metadata": {
      "needs_background": "light"
     },
     "output_type": "display_data"
    }
   ],
   "source": [
    "P_RV_days, e_RV, w_RV, k1_RV, k2_RV, v0_RV, m1_RV, m2_RV,sep_RV = np.loadtxt('data\\Delfosse_data.txt', skiprows = 2, delimiter = ',', unpack = True)\n",
    "m1_Del = m1_RV\n",
    "G = 6.67 * 10**-11 # m**3 kg**-1 s**-2\n",
    "pi = 3.14159265359\n",
    "\n",
    "# unit conversion\n",
    "P_RV_secs = P_RV_days * 86400 # days to seconds\n",
    "m1_RV_kg = m1_RV * 2*10**30 # Msun to kg\n",
    "m2_RV_kg = m2_RV * 2*10**30 # Msun to kg\n",
    "\n",
    "# separation calculation - sep = ((P**2G(m1+m2))/2pi**2)**(1/3)\n",
    "sep_RV_m = ((((P_RV_secs**2)*G*(m1_RV_kg+m2_RV_kg))/(4*pi**2))**(1/3))\n",
    "sep_RV = sep_RV_m * 6.685*10**-12\n",
    "print(sep_RV)\n",
    "\n",
    "# separation detection limit calculation - sensitive to periods < 20 years and negligible companion mass, using mean mass of primaries and P = 20 years\n",
    "mean_mass_msun = sum(m1_RV) / len(m1_RV)\n",
    "mean_mass_kg = mean_mass_msun * 2*10**30\n",
    "period_limit = 6.307 * 10**8 # 20 years in seconds\n",
    "sep_complete_m = ((((period_limit**2)*G*mean_mass_kg)/(4*pi**2))**(1/3))\n",
    "sep_complete_au = sep_complete_m * 6.68459*10**-12 # m to au\n",
    "print(sep_complete_au) # = 4.6\n",
    "\n",
    "\n",
    "q_RV = np.divide(m2_RV,m1_RV)\n",
    "\n",
    "plt.scatter(sep_RV, q_RV)\n",
    "plt.ylabel(\"q\")\n",
    "plt.xlabel(\"separation (au)\")\n",
    "# plt.axvline(x=4.6)\n",
    "plt.axvspan(0, 4.6, facecolor='g', alpha=.3)\n",
    "plt.title(\"Radial Velocity Survey (Delfosse et. al. 1998)\")\n",
    "plt.show()\n",
    "\n",
    "RV_data = np.stack((sep_RV,q_RV))"
   ]
  },
  {
   "cell_type": "code",
   "execution_count": 5,
   "metadata": {},
   "outputs": [
    {
     "name": "stdout",
     "output_type": "stream",
     "text": [
      "1\n"
     ]
    },
    {
     "data": {
      "image/png": "[encoded data removed]",
      "text/plain": [
       "<Figure size 432x288 with 1 Axes>"
      ]
     },
     "metadata": {
      "needs_background": "light"
     },
     "output_type": "display_data"
    }
   ],
   "source": [
    "sorted_q_RV = np.sort(q_RV)\n",
    "for pos, val in enumerate(sorted_q_RV):\n",
    "    if val > .6:\n",
    "        complete_pos_q = pos # = 1\n",
    "        print(complete_pos_q)\n",
    "        break \n",
    "\n",
    "# accounting for sep completion\n",
    "# sorts array of values by ascending sep, keeps associated values together\n",
    "a2 = RV_data[1,:].argsort() \n",
    "RV_data_sorted = RV_data[:,a2]\n",
    "\n",
    "# splicing off values beyond completeness limit using index found above, therefore accounting for completeness\n",
    "Del_data_complete = np.array([RV_data_sorted[i][1:] for i in range(0,2)])\n",
    "\n",
    "plt.scatter(Del_data_complete[0], Del_data_complete[1])\n",
    "plt.ylabel(\"q\")\n",
    "plt.xlabel(\"separation (au)\")\n",
    "\n",
    "plt.show()"
   ]
  },
  {
   "cell_type": "code",
   "execution_count": 6,
   "metadata": {},
   "outputs": [
    {
     "name": "stdout",
     "output_type": "stream",
     "text": [
      "Ks_2sampResult(statistic=0.48235294117647054, pvalue=0.18536640504452792)\n"
     ]
    }
   ],
   "source": [
    "\n",
    "print(sci.ks_2samp(CC_data_complete[1],Del_data_complete[1]))\n",
    "# p is large - accept the null hypothesis that two samples are drawn from same distribution"
   ]
  },
  {
   "cell_type": "code",
   "execution_count": 7,
   "metadata": {},
   "outputs": [
    {
     "data": {
      "image/png": "[encoded data removed]",
      "text/plain": [
       "<Figure size 432x288 with 1 Axes>"
      ]
     },
     "metadata": {
      "needs_background": "light"
     },
     "output_type": "display_data"
    },
    {
     "name": "stdout",
     "output_type": "stream",
     "text": [
      "1836.0\n",
      "573.2\n"
     ]
    }
   ],
   "source": [
    "# Janson et. al. 2012\n",
    "m1_Jan, m2_Jan, sep_Jan = np.loadtxt('data\\Janson_data.txt', skiprows = 1, delimiter = ',', unpack = True)\n",
    "\n",
    "q_Jan = np.zeros(214)\n",
    "q_Jan = np.divide(m2_Jan, m1_Jan)\n",
    "\n",
    "plt.scatter(sep_Jan, q_Jan)\n",
    "plt.ylabel(\"q\")\n",
    "plt.xlabel(\"physical separation (au)\")\n",
    "plt.xscale('log')\n",
    "# plt.axhline(y=.3) # spt < 3.5\n",
    "# plt.axhline(y=.6) # spt > 3.5\n",
    "# plt.axvline(x=2.6)\n",
    "# plt.axvline(x=29.5)\n",
    "plt.axvspan(3, 227, facecolor='g', alpha=.3)\n",
    "plt.axhspan(.4, 1, facecolor='r', alpha=0.3)\n",
    "plt.title(\"Janson et. al. 2012\")\n",
    "plt.show()\n",
    "\n",
    "a = 0\n",
    "for i in sep_Jan:\n",
    "    if i > 500:\n",
    "        print(i)"
   ]
  },
  {
   "cell_type": "code",
   "execution_count": 8,
   "metadata": {},
   "outputs": [
    {
     "name": "stdout",
     "output_type": "stream",
     "text": [
      "7\n",
      "205\n",
      "66\n"
     ]
    },
    {
     "data": {
      "image/png": "[encoded data removed]",
      "text/plain": [
       "<Figure size 432x288 with 1 Axes>"
      ]
     },
     "metadata": {
      "needs_background": "light"
     },
     "output_type": "display_data"
    },
    {
     "name": "stdout",
     "output_type": "stream",
     "text": [
      "3.2\n"
     ]
    }
   ],
   "source": [
    "# finding index of values of sep beyond completeness limit\n",
    "sorted_sep_Jan = np.sort(sep_Jan)\n",
    "for pos, val in enumerate(sorted_sep_Jan):\n",
    "    if val > 3:\n",
    "        complete_pos_sep = pos # = 7\n",
    "        print(complete_pos_sep)\n",
    "        break \n",
    "for pos, val in enumerate(sorted_sep_Jan):\n",
    "    if val > 227:\n",
    "        complete_pos_sep = pos # = 205\n",
    "        print(complete_pos_sep)\n",
    "        break  \n",
    "        \n",
    "# places associated q and s values together in one 2 row array\n",
    "# DI_data[0] = sep, [1] = q\n",
    "Jan_data = np.stack((sep_Jan, q_Jan))\n",
    "\n",
    "# accounting for sep completion\n",
    "# sorts array of values by ascending sep, keeps associated values together\n",
    "a1 = Jan_data[0,:].argsort() \n",
    "Jan_data_sorted = Jan_data[:,a1]\n",
    "\n",
    "# splicing off values beyond completeness limit using index found above, therefore accounting for completeness\n",
    "Jan_data_complete1 = np.array([Jan_data_sorted[i][7:205] for i in range(0,2)])\n",
    "\n",
    "# accounting for q completion\n",
    "# sorts array of values by ascending q, keeps associated values together\n",
    "a2 = Jan_data_complete1[1,:].argsort() \n",
    "Jan_data_sorted2 = Jan_data_complete1[:,a2]\n",
    "\n",
    "# finding index of values of q beyond completeness limit\n",
    "sorted_q_Jan = np.sort(Jan_data_sorted2[1])\n",
    "for pos, val in enumerate(sorted_q_Jan):\n",
    "    if val > .6:\n",
    "        complete_pos_Jan = pos # = 66\n",
    "        print(complete_pos_Jan)\n",
    "        break\n",
    "\n",
    "# splicing off values beyond completeness limit using index found above, therefore accounting for completeness\n",
    "Jan_data_complete = np.array([Jan_data_sorted2[i][66:] for i in range(0,2)])\n",
    "\n",
    "plt.scatter(Jan_data_complete[0],Jan_data_complete[1])\n",
    "plt.ylabel(\"q\")\n",
    "plt.xlabel(\"separation (au)\")\n",
    "plt.xscale('log')\n",
    "plt.xlim(0.1,2000)\n",
    "plt.ylim(0,1)\n",
    "plt.show()\n",
    "\n",
    "print(np.amin(Jan_data_complete[0]))"
   ]
  },
  {
   "cell_type": "code",
   "execution_count": 9,
   "metadata": {},
   "outputs": [
    {
     "data": {
      "image/png": "[encoded data removed]",
      "text/plain": [
       "<Figure size 432x288 with 1 Axes>"
      ]
     },
     "metadata": {
      "needs_background": "light"
     },
     "output_type": "display_data"
    }
   ],
   "source": [
    "# Fischer and Marcy 1992\n",
    "\n",
    "\n",
    "\n",
    "sep_FM, m1_FM, m2_FM = np.loadtxt('data\\FM_data.txt', skiprows = 1, delimiter = ',', unpack = True)\n",
    "\n",
    "q_FM = np.zeros(214)\n",
    "q_FM = np.divide(m2_FM, m1_FM)\n",
    "\n",
    "plt.scatter(sep_FM, q_FM)\n",
    "plt.ylabel(\"q\")\n",
    "plt.xlabel(\"physical separation (au)\")\n",
    "plt.xscale('log')\n",
    "# plt.axhline(y=.3) # spt < 3.5\n",
    "# plt.axhline(y=.6) # spt > 3.5\n",
    "# plt.axvline(x=2.6)\n",
    "# plt.axvline(x=29.5)\n",
    "plt.axvspan(0.01, 4, facecolor='g', alpha=.3)\n",
    "\n",
    "plt.title(\"Fischer and Marcy 1992\")\n",
    "plt.show()\n",
    "\n"
   ]
  },
  {
   "cell_type": "code",
   "execution_count": 10,
   "metadata": {},
   "outputs": [
    {
     "name": "stdout",
     "output_type": "stream",
     "text": [
      "9\n",
      "3\n"
     ]
    },
    {
     "data": {
      "image/png": "[encoded data removed]",
      "text/plain": [
       "<Figure size 432x288 with 1 Axes>"
      ]
     },
     "metadata": {
      "needs_background": "light"
     },
     "output_type": "display_data"
    },
    {
     "name": "stdout",
     "output_type": "stream",
     "text": [
      "3.1\n"
     ]
    }
   ],
   "source": [
    "# finding index of values of sep beyond completeness limit\n",
    "sorted_sep_FM = np.sort(sep_FM)\n",
    "for pos, val in enumerate(sorted_sep_FM):\n",
    "    if val > 4:\n",
    "        complete_pos_sep = pos # = 9\n",
    "        print(complete_pos_sep)\n",
    "        break \n",
    " \n",
    "        \n",
    "# places associated q and s values together in one 2 row array\n",
    "# DI_data[0] = sep, [1] = q\n",
    "FM_data = np.stack((sep_FM, q_FM))\n",
    "\n",
    "# accounting for sep completion\n",
    "# sorts array of values by ascending sep, keeps associated values together\n",
    "a1 = FM_data[0,:].argsort() \n",
    "FM_data_sorted = FM_data[:,a1]\n",
    "\n",
    "# splicing off values beyond completeness limit using index found above, therefore accounting for completeness\n",
    "FM_data_complete1 = np.array([FM_data_sorted[i][:9] for i in range(0,2)])\n",
    "\n",
    "# accounting for q completion\n",
    "# sorts array of values by ascending q, keeps associated values together\n",
    "a2 = FM_data_complete1[1,:].argsort() \n",
    "FM_data_sorted2 = FM_data_complete1[:,a2]\n",
    "\n",
    "# finding index of values of q beyond completeness limit\n",
    "sorted_q_FM = np.sort(FM_data_sorted2[1])\n",
    "for pos, val in enumerate(sorted_q_FM):\n",
    "    if val > .6:\n",
    "        complete_pos_FM = pos # = 3\n",
    "        print(complete_pos_FM)\n",
    "        break\n",
    "\n",
    "# splicing off values beyond completeness limit using index found above, therefore accounting for completeness\n",
    "FM_data_complete = np.array([FM_data_sorted2[i][3:] for i in range(0,2)])\n",
    "\n",
    "plt.scatter(FM_data_complete[0],FM_data_complete[1])\n",
    "plt.ylabel(\"q\")\n",
    "plt.xlabel(\"separation (au)\")\n",
    "plt.xscale('log')\n",
    "plt.xlim(0.01,1000)\n",
    "plt.ylim(0,1)\n",
    "plt.show()\n",
    "print(np.amax(FM_data_complete[0]))\n"
   ]
  },
  {
   "cell_type": "code",
   "execution_count": 11,
   "metadata": {},
   "outputs": [
    {
     "data": {
      "image/png": "[encoded data removed]",
      "text/plain": [
       "<Figure size 432x288 with 1 Axes>"
      ]
     },
     "metadata": {
      "needs_background": "light"
     },
     "output_type": "display_data"
    }
   ],
   "source": [
    "# Ward-Duong et. al. 2015\n",
    "sep_WD, m1_WD, m2_WD = np.loadtxt('data\\WD_data.csv', skiprows = 0, delimiter = ',', unpack = True)\n",
    "\n",
    "q_WD = np.zeros(214)\n",
    "q_WD = np.divide(m2_WD, m1_WD)\n",
    "\n",
    "plt.scatter(sep_WD, q_WD)\n",
    "plt.ylabel(\"q\")\n",
    "plt.xlabel(\"physical separation (au)\")\n",
    "plt.xscale('log')\n",
    "# plt.axhline(y=.3) # spt < 3.5\n",
    "# plt.axhline(y=.6) # spt > 3.5\n",
    "# plt.axvline(x=2.6)\n",
    "# plt.axvline(x=29.5)\n",
    "plt.axvspan(3, 10000, facecolor='g', alpha=.3)\n",
    "plt.axhspan(.2, 1, facecolor='r', alpha=0.3)\n",
    "plt.title(\"Ward-Duong et. al. 2015\")\n",
    "plt.show()"
   ]
  },
  {
   "cell_type": "code",
   "execution_count": 12,
   "metadata": {},
   "outputs": [
    {
     "name": "stdout",
     "output_type": "stream",
     "text": [
      "25\n",
      "55\n"
     ]
    },
    {
     "data": {
      "image/png": "[encoded data removed]",
      "text/plain": [
       "<Figure size 432x288 with 1 Axes>"
      ]
     },
     "metadata": {
      "needs_background": "light"
     },
     "output_type": "display_data"
    },
    {
     "name": "stdout",
     "output_type": "stream",
     "text": [
      "3.3\n"
     ]
    }
   ],
   "source": [
    "# finding index of values of sep beyond completeness limit\n",
    "sorted_sep_WD = np.sort(sep_WD)\n",
    "for pos, val in enumerate(sorted_sep_WD):\n",
    "    if val > 3:\n",
    "        complete_pos_sep = pos # = 25\n",
    "        print(complete_pos_sep)\n",
    "        break \n",
    "for pos, val in enumerate(sorted_sep_WD):\n",
    "    if val > 10000:\n",
    "        complete_pos_sep = pos # = none\n",
    "        print(complete_pos_sep)\n",
    "        break  \n",
    " \n",
    "        \n",
    "# places associated q and s values together in one 2 row array\n",
    "# DI_data[0] = sep, [1] = q\n",
    "WD_data = np.stack((sep_WD, q_WD))\n",
    "\n",
    "# accounting for sep completion\n",
    "# sorts array of values by ascending sep, keeps associated values together\n",
    "a1 = WD_data[0,:].argsort() \n",
    "WD_data_sorted = WD_data[:,a1]\n",
    "\n",
    "# splicing off values beyond completeness limit using index found above, therefore accounting for completeness\n",
    "WD_data_complete1 = np.array([WD_data_sorted[i][25:] for i in range(0,2)])\n",
    "\n",
    "# accounting for q completion\n",
    "# sorts array of values by ascending q, keeps associated values together\n",
    "a2 = WD_data_complete1[1,:].argsort() \n",
    "WD_data_sorted2 = WD_data_complete1[:,a2]\n",
    "\n",
    "# finding index of values of q beyond completeness limit\n",
    "sorted_q_WD = np.sort(WD_data_sorted2[1])\n",
    "for pos, val in enumerate(sorted_q_WD):\n",
    "    if val > .6:\n",
    "        complete_pos_WD = pos # = 55\n",
    "        print(complete_pos_WD)\n",
    "        break\n",
    "\n",
    "# splicing off values beyond completeness limit using index found above, therefore accounting for completeness\n",
    "WD_data_complete = np.array([WD_data_sorted2[i][55:] for i in range(0,2)])\n",
    "\n",
    "plt.scatter(WD_data_complete[0],WD_data_complete[1])\n",
    "plt.ylabel(\"q\")\n",
    "plt.xlabel(\"separation (au)\")\n",
    "plt.xscale('log')\n",
    "plt.xlim(1,10000)\n",
    "plt.ylim(0,1)\n",
    "plt.show()\n",
    "print(np.amin(WD_data_complete[0]))\n"
   ]
  },
  {
   "cell_type": "code",
   "execution_count": 13,
   "metadata": {},
   "outputs": [
    {
     "name": "stdout",
     "output_type": "stream",
     "text": [
      "[[8.31000000e+01 8.50000000e+01 9.72000000e+01 1.83000000e+02\n",
      "  1.94900000e+02 2.07300000e+02 2.09400000e+02 4.51500000e+02\n",
      "  4.56000000e+02 6.19000000e+02 6.21000000e+02 6.84000000e+02\n",
      "  6.93200000e+02 1.01010000e+03 1.02000000e+03 1.06600000e+03\n",
      "  1.07170000e+03 1.09180000e+03 1.09600000e+03 1.51100000e+03]\n",
      " [7.14285714e-01 6.94444444e-01 9.80000000e-01 6.59090909e-01\n",
      "  6.59090909e-01 7.11111111e-01 7.11111111e-01 7.64705882e-01\n",
      "  7.64705882e-01 8.91891892e-01 8.91891892e-01 7.12121212e-01\n",
      "  7.12121212e-01 1.00000000e+00 1.00000000e+00 7.22222222e-01\n",
      "  7.22222222e-01 8.84615385e-01 8.84615385e-01 6.75000000e-01]]\n"
     ]
    },
    {
     "data": {
      "image/png": "[encoded data removed]",
      "text/plain": [
       "<Figure size 432x288 with 1 Axes>"
      ]
     },
     "metadata": {
      "needs_background": "light"
     },
     "output_type": "display_data"
    }
   ],
   "source": [
    "# splitting WD in half by separation\n",
    "a1 = WD_data_complete[0,:].argsort() \n",
    "WD_data_complete_sorted = WD_data_complete[:,a1]\n",
    "\n",
    "WD_A = WD_data_complete_sorted[:, 0:22]\n",
    "WD_B = WD_data_complete_sorted[:, 23:43]\n",
    "print(WD_B)\n",
    "\n",
    "plt.scatter(WD_A[0],WD_A[1])\n",
    "plt.scatter(WD_B[0],WD_B[1])\n",
    "# plt.scatter(WD_data_complete_sorted[0],WD_data_complete_sorted[1])\n",
    "plt.ylabel(\"q\")\n",
    "plt.xlabel(\"separation (au)\")\n",
    "plt.xscale('log')\n",
    "plt.xlim(1,10000)\n",
    "plt.ylim(0,1)\n",
    "plt.show()\n"
   ]
  },
  {
   "cell_type": "code",
   "execution_count": 14,
   "metadata": {},
   "outputs": [
    {
     "name": "stdout",
     "output_type": "stream",
     "text": [
      "f_CC =  0.06938775510204082 f_Del =  0.043478260869565216 f_Jan =  0.17345597897503284 f_FM =  0.08333333333333333 f_WD =  0.17959183673469387 f_SV =  0.08035714285714286\n"
     ]
    }
   ],
   "source": [
    "\n",
    "\n",
    "# observed separations within completion (AU)\n",
    "a_min_CC = 2.7642\n",
    "a_max_CC = 26.46\n",
    "a_min_Del = .0363\n",
    "a_max_Del = .7976\n",
    "a_min_Jan = 3.2\n",
    "a_max_Jan = 215.2\n",
    "a_min_FM = .07\n",
    "a_max_FM = 3.1\n",
    "a_min_WD = 3.3\n",
    "a_max_WD = 1512.1\n",
    "a_min_WD_A = 3.3\n",
    "a_max_WD_A = 76\n",
    "a_min_WD_B = 83.1\n",
    "a_max_WD_B = 1512.1\n",
    "a_min_SV = 1\n",
    "a_max_SV = 10\n",
    "\n",
    "# # complete separations\n",
    "# a_min_DI = 2.6\n",
    "# a_max_DI = 29.5\n",
    "# a_min_RV = .01\n",
    "# a_max_RV = 4.6\n",
    "\n",
    "parent_CC = 490\n",
    "parent_Del = 115\n",
    "parent_Jan = 761\n",
    "parent_FM = 72\n",
    "parent_WD = 245\n",
    "parent_WD_A = parent_WD / 2\n",
    "parent_WD_B = parent_WD / 2\n",
    "parent_SV = 224\n",
    "\n",
    "companions_Jan = Jan_data_complete[1].size # q > .6\n",
    "companions_CC = CC_data_complete[1].size # q > .6\n",
    "companions_Del = Del_data_complete[1].size # q > .6\n",
    "companions_FM = FM_data_complete[1].size # q > .6\n",
    "companions_WD = WD_data_complete[1].size # q > .6\n",
    "companions_WD_A = WD_A[1].size # q > .6\n",
    "companions_WD_B = WD_B[1].size # q > .6\n",
    "companions_SV = 18\n",
    "\n",
    "f_CC = companions_CC / parent_CC\n",
    "f_Del = companions_Del / parent_Del\n",
    "f_Jan = companions_Jan / parent_Jan\n",
    "f_FM = companions_FM / parent_FM\n",
    "f_WD = companions_WD / parent_WD\n",
    "f_WD_A = companions_WD_A / parent_WD_A\n",
    "f_WD_B = companions_WD_B / parent_WD_B\n",
    "f_SV = companions_SV / parent_SV\n",
    "\n",
    "err_CC = math.sqrt(companions_CC) / parent_CC\n",
    "err_Del = math.sqrt(companions_Del) / parent_Del\n",
    "err_Jan = math.sqrt(companions_Jan) / parent_Jan\n",
    "err_FM = math.sqrt(companions_FM) / parent_FM\n",
    "err_WD = math.sqrt(companions_WD) / parent_WD\n",
    "err_SV = math.sqrt(companions_SV) / parent_SV\n",
    "err_WD_A = math.sqrt(companions_WD_A) / parent_WD_A\n",
    "err_WD_B = math.sqrt(companions_WD_B) / parent_WD_B\n",
    "\n",
    "\n",
    "\n",
    "print(\"f_CC = \", f_CC,\"f_Del = \", f_Del, \"f_Jan = \", f_Jan, \"f_FM = \", f_FM, \"f_WD = \", f_WD, \"f_SV = \", f_SV)"
   ]
  },
  {
   "cell_type": "code",
   "execution_count": 15,
   "metadata": {},
   "outputs": [],
   "source": [
    "\n",
    "\n",
    "\n",
    "# base 10 logspace\n",
    "# x = log10(mean_a)\n",
    " \n",
    "def log_normal_pdf(x, mu, sigma):\n",
    "    return (np.exp(-((x - mu)**2 / (2 * sigma**2)))) / (sigma * np.sqrt(2 * np.pi))\n",
    "\n",
    "# for log_mean_a in np.arange(-2,4,.1):\n",
    "#     for log_sigma in np.arange(-2, 2, .1): \n",
    "#         for A in np.arange(0, 1, .1):\n",
    "            \n",
    "#             int_CC = integrate.quad(lambda x: log_normal_pdf(x, log_mean_a, log_sigma) , np.log10(a_min_CC), np.log10(a_max_CC))\n",
    "# #             int_Del = integrate.quad(lambda x: log_normal_pdf(x, log_mean_a, log_sigma) , np.log10(a_min_Del), np.log10(a_max_Del))\n",
    "#             int_Jan = integrate.quad(lambda x: log_normal_pdf(x, log_mean_a, log_sigma) , np.log10(a_min_Jan), np.log10(a_max_Jan))\n",
    "#             int_FM = integrate.quad(lambda x: log_normal_pdf(x, log_mean_a, log_sigma) , np.log10(a_min_FM), np.log10(a_max_FM))\n",
    "# #             int_WD = integrate.quad(lambda x: log_normal_pdf(x, log_mean_a, log_sigma) , np.log10(a_min_WD), np.log10(a_max_WD))   \n",
    "#             int_SV = integrate.quad(lambda x: log_normal_pdf(x, log_mean_a, log_sigma) , np.log10(a_min_SV), np.log10(a_max_SV))   \n",
    "# #             int_WD_A = integrate.quad(lambda x: log_normal_pdf(x, log_mean_a, log_sigma) , np.log10(a_min_WD_A), np.log10(a_max_WD_A))   \n",
    "# #             int_WD_B = integrate.quad(lambda x: log_normal_pdf(x, log_mean_a, log_sigma) , np.log10(a_min_WD_B), np.log10(a_max_WD_B))   \n",
    "\n",
    "            \n",
    "#             model_CC = A * int_CC[0]\n",
    "# #             model_Del = A * int_Del[0]\n",
    "#             model_Jan = A * int_Jan[0]\n",
    "#             model_FM = A * int_FM[0]\n",
    "# #             model_WD = A * int_WD[0]\n",
    "#             model_SV = A * int_SV[0]\n",
    "# #             model_WD_A = A * int_WD_A[0]\n",
    "# #             model_WD_B = A * int_WD_B[0]\n",
    "\n",
    "\n",
    "            \n",
    "            \n",
    "#             x_CC = np.power(model_CC - f_CC, 2) / np.power(err_CC, 2)\n",
    "# #             x_Del = np.power(model_Del - f_Del, 2) / np.power(err_Del, 2)\n",
    "#             x_Jan = np.power(model_Jan - f_Jan, 2) / np.power(err_Jan, 2)\n",
    "#             x_FM = np.power(model_FM - f_FM, 2) / np.power(err_FM, 2)\n",
    "# #             x_WD = np.power(model_WD - f_WD, 2) / np.power(err_WD, 2)\n",
    "#             x_SV = np.power(model_SV - f_SV, 2) / np.power(err_SV, 2)\n",
    "# #             x_WD_A = np.power(model_WD_A - f_WD_A, 2) / np.power(err_WD_A, 2)\n",
    "# #             x_WD_B = np.power(model_WD_B - f_WD_B, 2) / np.power(err_WD_B, 2)\n",
    "\n",
    "    \n",
    "#             x_list = [x_SV, x_CC, x_Jan, x_FM]\n",
    "\n",
    "#             nu = len(x_list) - 3 # data points - fitted parameters\n",
    "            \n",
    "#             chi_sq = (1 / nu) * sum(x_list)\n",
    "            \n",
    "#             if (chi_sq > 1) and (chi_sq < 1.8):\n",
    "#                 print(chi_sq, log_mean_a, log_sigma, A)\n",
    "            \n",
    "    \n"
   ]
  },
  {
   "cell_type": "code",
   "execution_count": 16,
   "metadata": {},
   "outputs": [
    {
     "data": {
      "image/png": "[encoded data removed]",
      "text/plain": [
       "<Figure size 432x288 with 2 Axes>"
      ]
     },
     "metadata": {
      "needs_background": "light"
     },
     "output_type": "display_data"
    }
   ],
   "source": [
    "# sigma and mean are in logspace\n",
    "# x = []\n",
    "# x_range = []\n",
    "# log_normal = []\n",
    "# mean_loga = math.log(20,10)\n",
    "# A = .249\n",
    "\n",
    "# def log_normal_pdf(x, mu, sigma):\n",
    "#     return np.exp(-(np.log(x) - mu)**2 / (2 * sigma**2)) / (sigma * np.sqrt(2 * np.pi))\n",
    "\n",
    "log_mu = 1.06\n",
    "log_sigma = 1.34\n",
    "A = .36\n",
    "\n",
    "a = np.linspace(0, 10000, 1000000)\n",
    "x = np.log10(a)\n",
    "pdf = A * log_normal_pdf(x, log_mu, log_sigma)\n",
    "\n",
    "fig, ax1 = plt.subplots()\n",
    "ax1.plot(a, pdf, 'b-')\n",
    "ax1.set_xlabel('log(a)')\n",
    "ax1.set_ylabel('dN (Log Gaussian Distribution)', color='b')\n",
    "ax1.tick_params('y', colors='b')\n",
    "# ax1.axvline(a_min_DI)\n",
    "# ax1.axvline(a_max_DI)\n",
    "# ax1.axvline(a_min_RV)\n",
    "# ax1.axvline(a_max_RV)\n",
    "# ax1.axvspan(a_min_CC, a_max_CC, facecolor='grey', alpha=.3)\n",
    "# ax1.axvspan(a_min_Del, a_max_Del, facecolor='grey', alpha=.3)\n",
    "# ax1.axvspan(a_min_Jan, a_max_Jan, facecolor='grey', alpha=.3)\n",
    "# ax1.axvspan(a_min_FM, a_max_FM, facecolor='grey', alpha=.3)\n",
    "ax1.set_ylim(0)\n",
    "\n",
    "\n",
    "ax2 = ax1.twinx()\n",
    "# ax2.scatter(9.5,.069, c = 'red') # f_DI_data\n",
    "# ax2.scatter(.128,.043, c = 'red') # f_RV_data\n",
    "# ax2.errorbar(9.5, .069, xerr=5,color = 'red')\n",
    "# ax2.errorbar(.128, .043, xerr=.03,color = 'red')\n",
    "ax2.set_ylabel('f = int(dN) dlog(a)', color='r')\n",
    "CC_domain = []\n",
    "CC_range = np.arange(a_min_CC,a_max_CC,.01)\n",
    "for i in range(len(CC_range)):\n",
    "    CC_domain.append(f_CC)\n",
    "Del_domain = []\n",
    "Del_range = np.arange(a_min_Del,a_max_Del,.01)\n",
    "for i in range(len(Del_range)):\n",
    "    Del_domain.append(f_Del)    \n",
    "Jan_domain = []\n",
    "Jan_range = np.arange(a_min_Jan,a_max_Jan,.01)\n",
    "for i in range(len(Jan_range)):\n",
    "    Jan_domain.append(f_Jan)\n",
    "FM_domain = []\n",
    "FM_range = np.arange(a_min_FM,a_max_FM,.01)\n",
    "for k in range(len(FM_range)):\n",
    "    FM_domain.append(f_FM)\n",
    "WD_domain = []\n",
    "WD_range = np.arange(a_min_WD,a_max_WD,.01)\n",
    "for k in range(len(WD_range)):\n",
    "    WD_domain.append(f_WD)    \n",
    "SV_domain = []\n",
    "SV_range = np.arange(a_min_SV,a_max_SV,.01)\n",
    "for k in range(len(SV_range)):\n",
    "    SV_domain.append(f_SV)\n",
    "\n",
    "# ax2.annotate('CC', xy=(1.5, f_CC))\n",
    "ax2.annotate('Del', xy=(.02, f_Del))\n",
    "ax2.annotate('Jan', xy=(1.5, f_Jan))\n",
    "ax2.annotate('FM', xy=(.05, f_FM))\n",
    "ax2.annotate('WD', xy=(1.5, f_WD))\n",
    "ax2.annotate('SV', xy=(.7, f_SV-.005))\n",
    "    \n",
    "# ax2.plot(CC_range,CC_domain, color=\"red\")\n",
    "ax2.plot(Del_range,Del_domain, color=\"red\")\n",
    "ax2.plot(Jan_range,Jan_domain, color=\"red\")\n",
    "ax2.plot(FM_range,FM_domain, color=\"red\")\n",
    "ax2.plot(WD_range,WD_domain, color=\"red\")\n",
    "ax2.plot(SV_range,SV_domain, color=\"red\")\n",
    "\n",
    "# mid = sum((a_min_Jan, a_max_Jan))/2\n",
    "# ax2.errorbar(log10(mid), f_Jan, yerr = err_Jan)\n",
    "\n",
    "ax2.tick_params('y', colors='r')\n",
    "# ax2.set_ylim(0,.1)\n",
    "\n",
    "ax2.errorbar(20, f_Jan, yerr = err_Jan, xerr = None, ecolor = 'red')\n",
    "ax2.errorbar(70, f_WD, yerr = err_WD, xerr = None, ecolor = 'red')\n",
    "ax2.errorbar(.5, f_FM, yerr = err_FM, xerr = None, ecolor = 'red')\n",
    "ax2.errorbar(2, f_SV, yerr = err_SV, xerr = None, ecolor = 'red')\n",
    "ax2.errorbar(.15, f_Del, yerr = err_Del, xerr = None, ecolor = 'red')\n",
    "\n",
    "\n",
    "# integrating model over ranges of surveys and plotting for testing purposes\n",
    "\n",
    "# test_int_CC = integrate.quad(lambda x: log_normal_pdf(x, log_mu, log_sigma) , np.log10(a_min_CC), np.log10(a_max_CC))\n",
    "test_int_Del = integrate.quad(lambda x: log_normal_pdf(x, log_mu, log_sigma) , np.log10(a_min_Del), np.log10(a_max_Del))\n",
    "test_int_Jan = integrate.quad(lambda x: log_normal_pdf(x, log_mu, log_sigma) , np.log10(a_min_Jan), np.log10(a_max_Jan))\n",
    "test_int_FM = integrate.quad(lambda x: log_normal_pdf(x, log_mu, log_sigma) , np.log10(a_min_FM), np.log10(a_max_FM))\n",
    "test_int_WD = integrate.quad(lambda x: log_normal_pdf(x, log_mu, log_sigma) , np.log10(a_min_WD), np.log10(a_max_WD))   \n",
    "test_int_SV = integrate.quad(lambda x: log_normal_pdf(x, log_mu, log_sigma) , np.log10(a_min_SV), np.log10(a_max_SV))\n",
    "\n",
    "# test_CC = A * test_int_CC[0]\n",
    "test_Del = A * test_int_Del[0]\n",
    "test_Jan = A * test_int_Jan[0]\n",
    "test_FM = A * test_int_FM[0]\n",
    "test_WD = A * test_int_WD[0]\n",
    "test_SV = A * test_int_SV[0]\n",
    "\n",
    "# CC_domain_test = []\n",
    "# CC_range_test = np.arange(a_min_CC,a_max_CC,.01)\n",
    "# for i in range(len(CC_range_test)):\n",
    "#     CC_domain_test.append(test_CC)\n",
    "Del_domain_test = []\n",
    "Del_range_test = np.arange(a_min_Del,a_max_Del,.01)\n",
    "for i in range(len(Del_range_test)):\n",
    "    Del_domain_test.append(test_Del)\n",
    "Jan_domain_test = []\n",
    "Jan_range_test = np.arange(a_min_Jan,a_max_Jan,.01)\n",
    "for i in range(len(Jan_range_test)):\n",
    "    Jan_domain_test.append(test_Jan)\n",
    "FM_domain_test = []\n",
    "FM_range_test = np.arange(a_min_FM,a_max_FM,.01)\n",
    "for i in range(len(FM_range_test)):\n",
    "    FM_domain_test.append(test_FM)\n",
    "WD_domain_test = []\n",
    "WD_range_test = np.arange(a_min_WD,a_max_WD,.01)\n",
    "for i in range(len(WD_range_test)):\n",
    "    WD_domain_test.append(test_WD)\n",
    "SV_domain_test = []\n",
    "SV_range_test = np.arange(a_min_SV,a_max_SV,.01)\n",
    "for i in range(len(SV_range_test)):\n",
    "    SV_domain_test.append(test_SV)\n",
    "    \n",
    "ax2.plot(Del_range_test,Del_domain_test, color=\"green\")\n",
    "ax2.plot(Jan_range_test,Jan_domain_test, color=\"green\")\n",
    "ax2.plot(FM_range_test,FM_domain_test, color=\"green\")\n",
    "ax2.plot(WD_range_test,WD_domain_test, color=\"green\")\n",
    "ax2.plot(SV_range_test,SV_domain_test, color=\"green\")\n",
    "\n",
    "ax2.annotate('Del Test', xy=(.02, test_Del))\n",
    "ax2.annotate('Jan Test', xy=(.2, test_Jan))\n",
    "ax2.annotate('FM Test', xy=(.05, test_FM))\n",
    "ax2.annotate('WD Test', xy=(1.5, test_WD))\n",
    "ax2.annotate('SV Test', xy=(.7, test_SV-.005))\n",
    "\n",
    "\n",
    "fig.tight_layout()\n",
    "plt.xscale('log')\n",
    "plt.title(\"Companion Frequency vs. Log of Semi-Major Axis, q > .6\")\n",
    "# plt.savefig('result.jpg')\n",
    "plt.show()"
   ]
  },
  {
   "cell_type": "code",
   "execution_count": 17,
   "metadata": {},
   "outputs": [
    {
     "data": {
      "image/png": "[encoded data removed]",
      "text/plain": [
       "<Figure size 432x288 with 1 Axes>"
      ]
     },
     "metadata": {
      "needs_background": "light"
     },
     "output_type": "display_data"
    }
   ],
   "source": [
    "# mean primary masses and ranges\n",
    "mean_mass_CC = np.mean(m1_CC) \n",
    "mean_mass_Del = np.mean(m1_Del)\n",
    "mean_mass_Jan = np.mean(m1_Jan)\n",
    "mean_mass_FM = np.mean(m1_FM)\n",
    "mean_mass_WD = np.mean(m1_WD)\n",
    "mean_mass_SV = .3\n",
    "mean_masses = [mean_mass_CC, mean_mass_Del, mean_mass_Jan, mean_mass_FM, mean_mass_WD, mean_mass_SV]\n",
    "\n",
    "lower_mass_CC, upper_mass_CC = np.sort(m1_CC)[0], np.sort(m1_CC)[-1]\n",
    "lower_mass_Del, upper_mass_Del = np.sort(m1_Del)[0], np.sort(m1_Del)[-1]\n",
    "lower_mass_Jan, upper_mass_Jan = np.sort(m1_Jan)[0], np.sort(m1_Jan)[-1]\n",
    "lower_mass_FM, upper_mass_FM = np.sort(m1_FM)[0], np.sort(m1_FM)[-1]\n",
    "lower_mass_WD, upper_mass_WD = np.sort(m1_WD)[0], np.sort(m1_WD)[-1]\n",
    "\n",
    "ax1 = plt.subplots\n",
    "\n",
    "surveys = [\"CC\", \"Del\", \"Jan\", \"FM\", \"WD\", \"SV\"]\n",
    "xticks = [1, 2, 3, 4, 5, 6]\n",
    "plt.xticks(xticks,surveys)\n",
    "\n",
    "plt.scatter(xticks, mean_masses)\n",
    "plt.title(\"Mean Masses of each survey\")\n",
    "plt.ylabel('M_sun')\n",
    "plt.show()"
   ]
  }
 ],
 "metadata": {
  "kernelspec": {
   "display_name": "Python 3",
   "language": "python",
   "name": "python3"
  },
  "language_info": {
   "codemirror_mode": {
    "name": "ipython",
    "version": 3
   },
   "file_extension": ".py",
   "mimetype": "text/x-python",
   "name": "python",
   "nbconvert_exporter": "python",
   "pygments_lexer": "ipython3",
   "version": "3.6.6"
  }
 },
 "nbformat": 4,
 "nbformat_minor": 2
}
