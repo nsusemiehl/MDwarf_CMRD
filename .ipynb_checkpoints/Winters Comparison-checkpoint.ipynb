{
 "cells": [
  {
   "cell_type": "code",
   "execution_count": 1,
   "metadata": {},
   "outputs": [],
   "source": [
    "import numpy as np\n",
    "import re\n",
    "import scipy.integrate as integrate"
   ]
  },
  {
   "cell_type": "code",
   "execution_count": 56,
   "metadata": {},
   "outputs": [
    {
     "data": {
      "text/plain": [
       "1120"
      ]
     },
     "execution_count": 56,
     "metadata": {},
     "output_type": "execute_result"
    }
   ],
   "source": [
    "with open('source_data\\Winters_data.txt', 'r') as myfile:\n",
    "    data = myfile.readlines()\n",
    "    \n",
    "masses = []\n",
    "for lines in data:\n",
    "    a = re.search(\"(.*A  |.*\\(A\\)  ).*\", lines)\n",
    "    if a:          \n",
    "        a = a.group(0)\n",
    "        b = re.search(\"0\\.\\d{3}[a-zA-Z ]{3}$\", a)\n",
    "        if b:\n",
    "            b = b.group(0)\n",
    "            c = re.search(\"\\.\\d{3}\", b)\n",
    "            if c:\n",
    "                c = float(c.group(0))\n",
    "                masses.append(c)\n",
    "    else:\n",
    "        d = re.search(\"(.*B  |.*\\(B\\)  ).*\", lines)\n",
    "        e = re.search(\"(.*C  |.*\\(C\\)  ).*\", lines)\n",
    "        f = re.search(\"(.*D  |.*\\(D\\)  ).*\", lines)\n",
    "        g = re.search(\"(.*E  |.*\\(E\\)  ).*\", lines)\n",
    "        if not d and not e and not f and not g:\n",
    "            h = re.search(\"0\\.\\d{3}[a-zA-Z ]{3}$\", lines)\n",
    "            if h:\n",
    "                h = h.group(0)\n",
    "                i = re.search(\"\\.\\d{3}\", h)\n",
    "                if i:\n",
    "                    i = float(i.group(0))\n",
    "                    masses.append(i)\n",
    "\n",
    "                \n",
    "len(masses)"
   ]
  },
  {
   "cell_type": "code",
   "execution_count": 115,
   "metadata": {},
   "outputs": [
    {
     "name": "stdout",
     "output_type": "stream",
     "text": [
      "0.282\n",
      "0.26595744680851063\n"
     ]
    }
   ],
   "source": [
    "q_list = [0.075 / m for m in masses]\n",
    "min_q = min(q_list)\n",
    "\n",
    "med_mass = np.median(masses)\n",
    "print(med_mass)\n",
    "med_q = 0.075 / med_mass\n",
    "print(med_q)"
   ]
  },
  {
   "cell_type": "code",
   "execution_count": 112,
   "metadata": {},
   "outputs": [
    {
     "name": "stdout",
     "output_type": "stream",
     "text": [
      "0.22723954372623573\n"
     ]
    }
   ],
   "source": [
    "N_singles = 856\n",
    "N_doubles = 223\n",
    "N_triples = 37\n",
    "N_quads = 3\n",
    "N_tot = 1120\n",
    "MR_corr = .268\n",
    "\n",
    "correction_factor = MR_corr / ((N_doubles + N_triples + N_quads) / N_tot)\n",
    "BR = (N_doubles / N_tot)\n",
    "BR_corr = BR * correction_factor\n",
    "print(BR_corr)"
   ]
  },
  {
   "cell_type": "code",
   "execution_count": 114,
   "metadata": {},
   "outputs": [
    {
     "data": {
      "text/plain": [
       "0.13255966694719803"
      ]
     },
     "execution_count": 114,
     "metadata": {},
     "output_type": "execute_result"
    }
   ],
   "source": [
    "BR_corr * (integrate.quad(lambda q: q**.25 , .6, 1)[0] / integrate.quad(lambda q: q**.25 , med_q, 1)[0])"
   ]
  }
 ],
 "metadata": {
  "kernelspec": {
   "display_name": "Python 3",
   "language": "python",
   "name": "python3"
  },
  "language_info": {
   "codemirror_mode": {
    "name": "ipython",
    "version": 3
   },
   "file_extension": ".py",
   "mimetype": "text/x-python",
   "name": "python",
   "nbconvert_exporter": "python",
   "pygments_lexer": "ipython3",
   "version": "3.7.3"
  }
 },
 "nbformat": 4,
 "nbformat_minor": 2
}
