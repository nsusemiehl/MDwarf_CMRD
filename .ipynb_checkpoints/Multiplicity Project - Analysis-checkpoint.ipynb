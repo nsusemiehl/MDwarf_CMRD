{
 "cells": [
  {
   "cell_type": "code",
   "execution_count": 2,
   "metadata": {},
   "outputs": [],
   "source": [
    "from scipy import stats\n",
    "import numpy as np\n",
    "import matplotlib.pyplot as plt\n",
    "import statistics\n",
    "import math\n",
    "import scipy.integrate as integrate\n",
    "import warnings\n",
    "warnings.simplefilter('ignore')\n",
    "from scipy import stats as sci\n",
    "import derived_data as d"
   ]
  },
  {
   "cell_type": "code",
   "execution_count": 3,
   "metadata": {},
   "outputs": [],
   "source": [
    " def log_normal_pdf(x, mu, sigma):\n",
    "    return (np.exp(-((x - mu)**2 / (2 * sigma**2)))) / (sigma * np.sqrt(2 * np.pi))"
   ]
  },
  {
   "cell_type": "code",
   "execution_count": 126,
   "metadata": {},
   "outputs": [
    {
     "data": {
      "text/plain": [
       "-0.05131048497166837"
      ]
     },
     "execution_count": 126,
     "metadata": {},
     "output_type": "execute_result"
    }
   ],
   "source": [
    "x = np.arange(1, 100)\n",
    "integrate.quad(lambda x: log_normal_pdf(x, -2, -2) , np.log10(1), np.log10(100))[0] * integrate.quad(lambda q: q**.25 , .6, 1)[0]"
   ]
  },
  {
   "cell_type": "code",
   "execution_count": 132,
   "metadata": {},
   "outputs": [
    {
     "name": "stdout",
     "output_type": "stream",
     "text": [
      "Best chi-sq, log(mu), log(sigma), A = 2.2137089415107085 1.6000000000000032 0.9000000000000026 0.6000000000000001\n"
     ]
    }
   ],
   "source": [
    "# range of potential parameter values - the fit will test each and every single one of these against one-another\n",
    "# course\n",
    "mu_range = np.arange(-2, 5, .1)\n",
    "sigma_range = np.arange(-2, 4, .1)\n",
    "A_range = np.arange(0, 1, .1)\n",
    "\n",
    "# medium (WD split)\n",
    "# mu_range = np.arange(1.3, 1.7, .01)\n",
    "# sigma_range = np.arange(0.8, 1.2, .01)\n",
    "# A_range = np.arange(.1, .4, .01)\n",
    "\n",
    "# medium (WD split, no SV)\n",
    "# mu_range = np.arange(1.4, 1.8, .01)\n",
    "# sigma_range = np.arange(0.7, 1.1, .01)\n",
    "# A_range = np.arange(.4, .8, .01)\n",
    "\n",
    "\n",
    "# fine (WD split)\n",
    "# mu_range = np.arange(1.48, 1.54, .001)\n",
    "# sigma_range = np.arange(1.00, 1.04, .001)\n",
    "# A_range = np.arange(.23, .27, .001)\n",
    "\n",
    "# medium (WD together)\n",
    "# mu_range = np.arange(1.2, 1.6, .01)\n",
    "# sigma_range = np.arange(.7, 1.1, .01)\n",
    "# A_range = np.arange(.1, .4, .01)\n",
    "\n",
    "# # fine (WD together)\n",
    "# mu_range = np.arange(1.44, 1.5, .001)\n",
    "# sigma_range = np.arange(.93, .99, .001)\n",
    "# A_range = np.arange(.21, .25, .001)\n",
    "\n",
    "# # fine (WD together)\n",
    "# mu_range = np.arange(1.44, 1.5, .001)\n",
    "# sigma_range = np.arange(.93, .99, .001)\n",
    "# A_range = np.arange(.21, .25, .001)\n",
    "\n",
    "# # fine (WD split, no SV)\n",
    "# mu_range = np.arange(1.56, 1.60, .001)\n",
    "# sigma_range = np.arange(.93, .97, .001)\n",
    "# A_range = np.arange(.61, .65, .001)\n",
    "\n",
    "# a blank cube which will later be filled with reduced chi-squared values\n",
    "cube = np.zeros([len(A_range),len(sigma_range),len(mu_range)]) # layers, rows, columns\n",
    "f_cube = np.zeros([len(A_range),len(sigma_range),len(mu_range)])\n",
    "\n",
    "# initializing constants for use in the fit process\n",
    "x, y, z = 0, 0, 0\n",
    "chi_list = []\n",
    "min_chi = 100\n",
    "best_mu = \"none\"\n",
    "best_sigma = \"none\"\n",
    "best_A = \"none\"\n",
    "\n",
    "# the fit process\n",
    "# calculates model frequencies using every single possible parameter value and compares the model frequencies to the simulated survey frequencies using the reduced chi-squared test\n",
    "for i in range(len(A_range)):\n",
    "    for j in range(len(sigma_range)):\n",
    "        for k in range(len(mu_range)):\n",
    "            \n",
    "            # storing parameter values\n",
    "            log_mu = mu_range[k]\n",
    "            log_sigma = sigma_range[j]\n",
    "            A = A_range[i]\n",
    "            \n",
    "            int_CC = integrate.quad(lambda x: log_normal_pdf(x, log_mu, log_sigma) , np.log10(d.min_sep_limit_CC), np.log10(d.max_sep_limit_CC))\n",
    "            int_Del = integrate.quad(lambda x: log_normal_pdf(x, log_mu, log_sigma) , np.log10(d.min_sep_limit_Del), np.log10(d.max_sep_limit_Del))\n",
    "            int_Jan = integrate.quad(lambda x: log_normal_pdf(x, log_mu, log_sigma) , np.log10(d.min_sep_limit_Jan), np.log10(d.max_sep_limit_Jan))\n",
    "            int_FM = integrate.quad(lambda x: log_normal_pdf(x, log_mu, log_sigma) , np.log10(d.min_sep_limit_FM), np.log10(d.max_sep_limit_FM))\n",
    "#             int_WD = integrate.quad(lambda x: log_normal_pdf(x, log_mu, log_sigma) , np.log10(d.min_sep_limit_WD), np.log10(d.max_sep_limit_WD))   \n",
    "            int_WD_A = integrate.quad(lambda x: log_normal_pdf(x, log_mu, log_sigma) , np.log10(d.min_sep_limit_WD_A), np.log10(d.max_sep_limit_WD_A))   \n",
    "            int_WD_B = integrate.quad(lambda x: log_normal_pdf(x, log_mu, log_sigma) , np.log10(d.min_sep_limit_WD_B), np.log10(d.max_sep_limit_WD_B)) \n",
    "#             int_SV = integrate.quad(lambda x: log_normal_pdf(x, log_mu, log_sigma) , np.log10(d.min_sep_limit_SV), np.log10(d.max_sep_limit_SV))      \n",
    " \n",
    "            dq_fit = integrate.quad(lambda q: q**.25 , .6, 1)\n",
    "\n",
    "            model_CC = A * int_CC[0] * dq_fit[0]\n",
    "            model_Del = A * int_Del[0] * dq_fit[0]\n",
    "            model_Jan = A * int_Jan[0] * dq_fit[0]\n",
    "            model_FM = A * int_FM[0] * dq_fit[0]\n",
    "#             model_WD = A * int_WD[0]\n",
    "            model_WD_A = A * int_WD_A[0] * dq_fit[0]\n",
    "            model_WD_B = A * int_WD_B[0] * dq_fit[0]\n",
    "#             model_SV = A * int_SV[0]\n",
    "         \n",
    "            x_CC = np.power(model_CC - d.f_CC, 2) / np.power(d.e_CC, 2)\n",
    "            x_Del = np.power(model_Del - d.f_Del, 2) / np.power(d.e_Del, 2)\n",
    "            x_Jan = np.power(model_Jan - d.f_Jan, 2) / np.power(d.e_Jan, 2)\n",
    "            x_FM = np.power(model_FM - d.f_FM, 2) / np.power(d.e_FM, 2)\n",
    "#             x_WD = np.power(model_WD - d.f_WD, 2) / np.power(d.e_WD, 2)\n",
    "            x_WD_A = np.power(model_WD_A - d.f_WD_A, 2) / np.power(d.e_WD_A, 2)\n",
    "            x_WD_B = np.power(model_WD_B - d.f_WD_B, 2) / np.power(d.e_WD_B, 2)\n",
    "#             x_SV = np.power(model_SV - d.f_SV, 2) / np.power(d.e_SV, 2)\n",
    "    \n",
    "            x_list = [x_CC, x_Jan, x_FM, x_Del, x_WD_A, x_WD_B]\n",
    "#             x_list = [x_SV, x_CC, x_Jan, x_FM, x_Del, x_WD]\n",
    "            nu = len(x_list) - 3 # data points - fitted parameters\n",
    "            chi_sq = (1 / nu) * sum(x_list)\n",
    "            \n",
    "            # reduced chi-squared values are stored in a cube - the exact fit parameters used to calculate it are retained as the index of the cube\n",
    "            cube[i][j][k] = chi_sq\n",
    "            \n",
    "            # frequency calculations\n",
    "            dq = integrate.quad(lambda q: q**.25 , .6, 1)\n",
    "            dloga = integrate.quad(lambda x: log_normal_pdf(x, log_mu, log_sigma) , np.log10(0.04), np.log10(10000))\n",
    "            freq = A * dq[0] * dloga[0]\n",
    "            if freq < 0:\n",
    "                f_cube[i][j][k] = 0\n",
    "            else:\n",
    "                f_cube[i][j][k] = freq\n",
    "            \n",
    "            # checking for the best fit parameter values\n",
    "            # the parameter values used in calculating a reduced chi-squared value that is closest to 1 are considered to be the best fit\n",
    "            chi_dev = abs(1 - chi_sq)\n",
    "            # incrementally checks every chi-squared value to find best fit\n",
    "            if chi_dev < min_chi:\n",
    "                min_chi = chi_dev\n",
    "                best_mu = log_mu\n",
    "                best_sigma = log_sigma\n",
    "                best_A = A\n",
    "                best_chi = chi_sq\n",
    "\n",
    "# printing out best fit values and associated reduced chi-squared\n",
    "print(\"Best chi-sq, log(mu), log(sigma), A =\", best_chi, best_mu, best_sigma, best_A) \n",
    "            \n",
    "    "
   ]
  },
  {
   "cell_type": "code",
   "execution_count": 133,
   "metadata": {},
   "outputs": [
    {
     "data": {
      "image/png": "[encoded data removed]",
      "text/plain": [
       "<Figure size 432x288 with 1 Axes>"
      ]
     },
     "metadata": {
      "needs_background": "light"
     },
     "output_type": "display_data"
    },
    {
     "name": "stdout",
     "output_type": "stream",
     "text": [
      "Best Fit log(mu) = 1.6000000000000032 ( 1.2000000000000028  -  2.0000000000000036 )\n"
     ]
    },
    {
     "data": {
      "image/png": "[encoded data removed]",
      "text/plain": [
       "<Figure size 432x288 with 1 Axes>"
      ]
     },
     "metadata": {
      "needs_background": "light"
     },
     "output_type": "display_data"
    },
    {
     "name": "stdout",
     "output_type": "stream",
     "text": [
      "Best Fit log(sigma) = 0.9000000000000026 ( -2.0  -  1.300000000000003 )\n"
     ]
    },
    {
     "data": {
      "image/png": "[encoded data removed]",
      "text/plain": [
       "<Figure size 432x288 with 1 Axes>"
      ]
     },
     "metadata": {
      "needs_background": "light"
     },
     "output_type": "display_data"
    },
    {
     "name": "stdout",
     "output_type": "stream",
     "text": [
      "Best Fit A = 0.6000000000000001 ( 0.0  -  0.8 )\n"
     ]
    }
   ],
   "source": [
    "# this function takes in a list and returns the index of the list that is closest to any given number (used in pdf \"error bars\")\n",
    "def closest(list, number):\n",
    "    x = []\n",
    "    for value in list:\n",
    "        x.append(abs(number-value))\n",
    "    return x.index(min(x))\n",
    "\n",
    "\n",
    "# initializing proability cube\n",
    "prob_cube = np.zeros([len(A_range),len(sigma_range),len(mu_range)]) # layers, rows, columns\n",
    "\n",
    "# chi-squared probability formula\n",
    "# def prob_chi(x):\n",
    "#     return x ** ((nu-2)/2) * np.exp(-x/2)\n",
    "\n",
    "# dont use prefactor \n",
    "# no prefactor\n",
    "def prob_chi(x):\n",
    "    return np.exp(-x/2)\n",
    "\n",
    "# converting cube from reduced chi-squared values to probabilities (from chi-squared distribution)\n",
    "for i in range(len(A_range)): # layers\n",
    "    for j in range(len(sigma_range)): # columns\n",
    "        for k in range(len(mu_range)): # rows\n",
    "                prob_cube[i][j][k] = prob_chi(cube[i][j][k])\n",
    "\n",
    "                \n",
    "# The following code computes the 1-D pdf's of each of the three fit parameters. First, log(mu). Then, log(sigma) and finally A\n",
    "      \n",
    "    \n",
    "# mu 1-D pdf\n",
    "\n",
    "# collapsing cube to one dimension\n",
    "sigmaxmu = np.sum(prob_cube, 0)\n",
    "mu = np.sum(sigmaxmu, 0)\n",
    "\n",
    "# normalizing pdf by summing values and multiplying by the amplitude that makes this sum equal to 1\n",
    "area = sum(mu)\n",
    "norm_const_mu = 1 / area\n",
    "norm_mu = norm_const_mu * mu\n",
    "\n",
    "# drawing \"error bars\" on the pdf: \n",
    "# a cumulative integration gives successive areas under the curve\n",
    "area_under_1 = integrate.cumtrapz(norm_mu, initial=0)\n",
    "range_index_1 = closest(mu_range, best_mu)\n",
    "# 33% of the data on either side of the best fit value is highlighted\n",
    "width_1 = .90\n",
    "lower_1 = area_under_1[range_index_1] - (width_1 / 2)\n",
    "upper_1 = area_under_1[range_index_1] + (width_1 / 2)\n",
    "lower_index_1 = closest(area_under_1, lower_1)\n",
    "upper_index_1 = closest(area_under_1, upper_1)\n",
    "\n",
    "# Graphing\n",
    "plt.plot(mu_range, norm_mu, color=\"black\")\n",
    "plt.title(\"Probability Density Function of log(mu)\")\n",
    "plt.xlabel(\"log(mu)\")\n",
    "plt.ylabel(\"Normalized Probability\")\n",
    "plt.axvline(x=best_mu, color=\"red\", label = \"Best Fit Value\")\n",
    "plt.legend()\n",
    "plt.savefig(\"log(mu)_pdf\")\n",
    "# The following line highlights 66% of the data centered on the best fit value (found above)\n",
    "plt.fill_between(mu_range[lower_index_1:upper_index_1+1], norm_mu[lower_index_1:upper_index_1+1], color=\"red\", alpha=.1)\n",
    "plt.show()\n",
    "\n",
    "print(\"Best Fit log(mu) =\", best_mu, \"(\", mu_range[lower_index_1], \" - \", mu_range[upper_index_1], \")\")\n",
    "\n",
    "\n",
    "\n",
    "# sigma 1-D pdf\n",
    "\n",
    "# collapsing cube to one dimension\n",
    "sigmaxmu = np.sum(prob_cube, 0)\n",
    "sigma = np.sum(sigmaxmu, 1)\n",
    "\n",
    "# normalizing pdf by summing values and multiplying by the amplitude that makes this sum equal to 1\n",
    "area = sum(sigma)\n",
    "norm_const_sigma = 1 / area\n",
    "norm_sigma = norm_const_sigma * sigma\n",
    "\n",
    "# drawing \"error bars\" on the pdf: \n",
    "# a cumulative integration gives successive areas under the curve\n",
    "area_under_2 = integrate.cumtrapz(norm_sigma, initial=0)\n",
    "range_index_2 = closest(sigma_range, best_sigma)\n",
    "# 33% of the data on either side of the best fit value is highlighted\n",
    "width_2 = .90\n",
    "lower_2 = area_under_2[range_index_2] - (width_2 / 2)\n",
    "upper_2 = area_under_2[range_index_2] + (width_2 / 2)\n",
    "lower_index_2 = closest(area_under_2, lower_2)\n",
    "upper_index_2 = closest(area_under_2, upper_2)\n",
    "\n",
    "# Graphing\n",
    "plt.plot(sigma_range, norm_sigma, color=\"black\")\n",
    "plt.title(\"Probability Density Function of log(sigma)\")\n",
    "plt.xlabel(\"log(sigma)\")\n",
    "plt.ylabel(\"Normalized Probability\")\n",
    "plt.axvline(x=best_sigma, color=\"red\", label = \"Best Fit Value\")\n",
    "plt.legend()\n",
    "plt.savefig(\"log(sigma)_pdf\")\n",
    "# The following line highlights 66% of the data centered on the best fit value (found above)\n",
    "plt.fill_between(sigma_range[lower_index_2:upper_index_2+1], norm_sigma[lower_index_2:upper_index_2+1], color=\"red\", alpha=.1)\n",
    "plt.show()\n",
    "\n",
    "print(\"Best Fit log(sigma) =\", best_sigma, \"(\", sigma_range[lower_index_2], \" - \", sigma_range[upper_index_2], \")\")\n",
    "\n",
    "\n",
    "\n",
    "# A 1-D pdf\n",
    "\n",
    "# collapsing cube to one dimension\n",
    "Axsigma = np.sum(prob_cube, 2)\n",
    "A = np.sum(Axsigma, 1)\n",
    "\n",
    "# normalizing pdf by summing values and multiplying by the amplitude that makes this sum equal to 1\n",
    "area = sum(A)\n",
    "norm_const_A = 1 / area\n",
    "norm_A = norm_const_A * A\n",
    "\n",
    "# drawing \"error bars\" on the pdf: \n",
    "# a cumulative integration gives successive areas under the curve\n",
    "area_under_3 = integrate.cumtrapz(norm_A, initial=0)\n",
    "range_index_3 = closest(A_range, best_A)\n",
    "# 33% of the data on either side of the best fit value is highlighted\n",
    "width_3 = .90\n",
    "lower_3 = area_under_3[range_index_3] - (width_3 / 2)\n",
    "upper_3 = area_under_3[range_index_3] + (width_3 / 2)\n",
    "lower_index_3 = closest(area_under_3, lower_3)\n",
    "upper_index_3 = closest(area_under_3, upper_3)\n",
    "\n",
    "# Graphing\n",
    "plt.plot(A_range, norm_A, color=\"black\")\n",
    "plt.title(\"Probability Density Function of A\")\n",
    "plt.xlabel(\"A\")\n",
    "plt.ylabel(\"Normalized Probability\")\n",
    "plt.axvline(x=best_A, color=\"red\", label = \"Best Fit Value\")\n",
    "# The following line highlights 66% of the data centered on the best fit value (found above)\n",
    "plt.fill_between(A_range[lower_index_3:upper_index_3+1], norm_A[lower_index_3:upper_index_3+1], color=\"red\", alpha=.1)\n",
    "plt.legend()\n",
    "plt.savefig(\"A_pdf\")\n",
    "plt.show()\n",
    "\n",
    "print(\"Best Fit A =\", best_A, \"(\", A_range[lower_index_3], \" - \", A_range[upper_index_3], \")\")"
   ]
  },
  {
   "cell_type": "code",
   "execution_count": 134,
   "metadata": {},
   "outputs": [
    {
     "data": {
      "image/png": "[encoded data removed]",
      "text/plain": [
       "<Figure size 432x288 with 2 Axes>"
      ]
     },
     "metadata": {
      "needs_background": "light"
     },
     "output_type": "display_data"
    }
   ],
   "source": [
    "a = np.linspace(0, 1e5, 1e6)\n",
    "x = np.log10(a)\n",
    "best_A = 0.629\n",
    "best_mu = 1.582\n",
    "best_sigma = 0.946\n",
    "pdf = best_A * log_normal_pdf(x, best_mu, best_sigma)\n",
    "\n",
    "\n",
    "fig, ax1 = plt.subplots()\n",
    "ax1.plot(a, pdf, 'b-')\n",
    "ax1.set_xlabel('semi-major axis (AU)')\n",
    "ax1.set_ylabel(r'$\\phi$ = dN/dlog-a', color='b')\n",
    "ax1.tick_params('y', colors='b')\n",
    "ax1.set_ylim(0)\n",
    "ax1.axvline(10**best_mu, color = \"b\", alpha = .05)\n",
    "# ax1.annotate(('log(mu) =' best_mu), xy=(1, .22), xytext=(1, .22))\n",
    "# ax1.annotate(('log(sigma) = ' best_sigma), xy=(1, .20), xytext=(1, .20))\n",
    "# ax1.annotate('A =', best_A, xy=(1, .18), xytext=(1, .18))\n",
    "\n",
    "ax2 = ax1.twinx()\n",
    "ax2.set_ylabel(r'f = $\\int(\\phi)$ dlog(a)', color='r')\n",
    "CC_domain = []\n",
    "CC_range = np.arange(d.min_sep_limit_CC,d.max_sep_limit_CC,.01)\n",
    "for i in range(len(CC_range)):\n",
    "    CC_domain.append(d.f_CC)\n",
    "Del_domain = []\n",
    "Del_range = np.arange(d.min_sep_limit_Del,d.max_sep_limit_Del,.01)\n",
    "for i in range(len(Del_range)):\n",
    "    Del_domain.append(d.f_Del)    \n",
    "Jan_domain = []\n",
    "Jan_range = np.arange(d.min_sep_limit_Jan,d.max_sep_limit_Jan,.01)\n",
    "for i in range(len(Jan_range)):\n",
    "    Jan_domain.append(d.f_Jan)\n",
    "FM_domain = []\n",
    "FM_range = np.arange(d.min_sep_limit_FM,d.max_sep_limit_FM,.01)\n",
    "for k in range(len(FM_range)):\n",
    "    FM_domain.append(d.f_FM)\n",
    "# WD_domain = []\n",
    "# WD_range = np.arange(d.min_sep_limit_WD,d.max_sep_limit_WD,.01)\n",
    "# for k in range(len(WD_range)):\n",
    "#     WD_domain.append(d.f_WD) \n",
    "WD_A_domain = []\n",
    "WD_A_range = np.arange(d.min_sep_limit_WD_A,d.max_sep_limit_WD_A,.01)\n",
    "for k in range(len(WD_A_range)):\n",
    "    WD_A_domain.append(d.f_WD_A)  \n",
    "WD_B_domain = []\n",
    "WD_B_range = np.arange(d.min_sep_limit_WD_B,d.max_sep_limit_WD_B,.01)\n",
    "for k in range(len(WD_B_range)):\n",
    "    WD_B_domain.append(d.f_WD_B)  \n",
    "# SV_domain = []\n",
    "# SV_range = np.arange(d.min_sep_limit_SV,d.max_sep_limit_SV,.01)\n",
    "# for k in range(len(SV_range)):\n",
    "#     SV_domain.append(d.f_SV)\n",
    "\n",
    "# ax2.annotate('CC', xy=(1.5, d.f_CC))\n",
    "# ax2.annotate('Del', xy=(.05, d.f_Del))\n",
    "# ax2.annotate('Jan', xy=(1.5, d.f_Jan))\n",
    "# ax2.annotate('FM', xy=(.05, d.f_FM))\n",
    "# # ax2.annotate('WD', xy=(3, d.f_WD))\n",
    "# ax2.annotate('WD_A', xy=(1.5, d.f_WD_A))\n",
    "# ax2.annotate('WD_B', xy=(100, d.f_WD_B))\n",
    "# # ax2.annotate('SV', xy=(.7, d.f_SV-.005))\n",
    "    \n",
    "ax2.plot(CC_range,CC_domain, color=\"red\")\n",
    "ax2.plot(Del_range,Del_domain, color=\"red\")\n",
    "ax2.plot(Jan_range,Jan_domain, color=\"red\")\n",
    "ax2.plot(FM_range,FM_domain, color=\"red\")\n",
    "# ax2.plot(WD_range,WD_domain, color=\"red\")\n",
    "ax2.plot(WD_A_range,WD_A_domain, color=\"red\")\n",
    "ax2.plot(WD_B_range,WD_B_domain, color=\"red\")\n",
    "# ax2.plot(SV_range,SV_domain, color=\"red\")\n",
    "\n",
    "ax2.tick_params('y', colors='r')\n",
    "\n",
    "# ax2.errorbar(np.mean(CC_range), d.f_CC, yerr = d.e_CC, xerr = None, ecolor = 'red', alpha = .3, linestyle = \"--\")\n",
    "# ax2.errorbar(np.mean(Jan_range), d.f_Jan, yerr = d.e_Jan, xerr = None, ecolor = 'red', alpha = .3)\n",
    "# ax2.errorbar(np.mean(WD_range), d.f_WD, yerr = d.e_WD, xerr = None, ecolor = 'red', alpha = .3)\n",
    "# ax2.errorbar(np.mean(FM_range), d.f_FM, yerr = d.e_FM, xerr = None, ecolor = 'red', alpha = .3)\n",
    "# ax2.errorbar(np.mean(SV_range), d.f_SV, yerr = d.e_SV, xerr = None, ecolor = 'red', alpha = .3)\n",
    "# ax2.errorbar(np.mean(Del_range), d.f_Del, yerr = d.e_Del, xerr = None, ecolor = 'red', alpha = .3)\n",
    "\n",
    "test_int_CC = integrate.quad(lambda x: log_normal_pdf(x, best_mu, best_sigma) , np.log10(d.min_sep_limit_CC), np.log10(d.max_sep_limit_CC))\n",
    "test_int_Del = integrate.quad(lambda x: log_normal_pdf(x, best_mu, best_sigma) , np.log10(d.min_sep_limit_Del), np.log10(d.max_sep_limit_Del))\n",
    "test_int_Jan = integrate.quad(lambda x: log_normal_pdf(x, best_mu, best_sigma) , np.log10(d.min_sep_limit_Jan), np.log10(d.max_sep_limit_Jan))\n",
    "test_int_FM = integrate.quad(lambda x: log_normal_pdf(x, best_mu, best_sigma) , np.log10(d.min_sep_limit_FM), np.log10(d.max_sep_limit_FM))\n",
    "# test_int_WD = integrate.quad(lambda x: log_normal_pdf(x, best_mu, best_sigma) , np.log10(d.min_sep_limit_WD), np.log10(d.max_sep_limit_WD))   \n",
    "test_int_WD_A = integrate.quad(lambda x: log_normal_pdf(x, best_mu, best_sigma) , np.log10(d.min_sep_limit_WD_A), np.log10(d.max_sep_limit_WD_A))   \n",
    "test_int_WD_B = integrate.quad(lambda x: log_normal_pdf(x, best_mu, best_sigma) , np.log10(d.min_sep_limit_WD_B), np.log10(d.max_sep_limit_WD_B))   \n",
    "# test_int_SV = integrate.quad(lambda x: log_normal_pdf(x, best_mu, best_sigma) , np.log10(d.min_sep_limit_SV), np.log10(d.max_sep_limit_SV))\n",
    "\n",
    "test_CC = best_A * test_int_CC[0]\n",
    "test_Del = best_A * test_int_Del[0]\n",
    "test_Jan = best_A * test_int_Jan[0]\n",
    "test_FM = best_A * test_int_FM[0]\n",
    "# test_WD = best_A * test_int_WD[0]\n",
    "test_WD_A = best_A * test_int_WD_A[0]\n",
    "test_WD_B = best_A * test_int_WD_B[0]\n",
    "# test_SV = best_A * test_int_SV[0]\n",
    "\n",
    "ax2.scatter(9, test_CC, color = \"red\")\n",
    "ax2.scatter(23, test_Jan, color = \"red\")\n",
    "# ax2.scatter(20, test_WD, color = \"red\")\n",
    "ax2.scatter(20, test_WD_A, color = \"red\")\n",
    "ax2.scatter(1000, test_WD_B, color = \"red\")\n",
    "ax2.scatter(.5, test_FM, color = \"red\")\n",
    "# ax2.scatter(4, test_SV, color = \"red\")\n",
    "ax2.scatter(.2, test_Del, color = \"red\")\n",
    "\n",
    "ax2.errorbar(9, d.f_CC, yerr = d.e_CC, xerr = None, ecolor = 'red', alpha = .3)\n",
    "ax2.errorbar(23, d.f_Jan, yerr = d.e_Jan, xerr = None, ecolor = 'red', alpha = .3)\n",
    "# ax2.errorbar(20, d.f_WD, yerr = d.e_WD, xerr = None, ecolor = 'red', alpha = .3)\n",
    "ax2.errorbar(20, d.f_WD_A, yerr = d.e_WD_A, xerr = None, ecolor = 'red', alpha = .3)\n",
    "ax2.errorbar(1000, d.f_WD_B, yerr = d.e_WD_B, xerr = None, ecolor = 'red', alpha = .3)\n",
    "ax2.errorbar(.5, d.f_FM, yerr = d.e_FM, xerr = None, ecolor = 'red', alpha = .3)\n",
    "# ax2.errorbar(4, d.f_SV, yerr = d.e_SV, xerr = None, ecolor = 'red', alpha = .3)\n",
    "ax2.errorbar(.2, d.f_Del, yerr = d.e_Del, xerr = None, ecolor = 'red', alpha = .3)\n",
    "\n",
    "fig.tight_layout()\n",
    "plt.xscale('log')\n",
    "plt.title(\"M-Dwarf Surface Density Distribution (q > .6)\")\n",
    "# plt.savefig('result.jpg')\n",
    "plt.show()"
   ]
  },
  {
   "cell_type": "code",
   "execution_count": 135,
   "metadata": {},
   "outputs": [
    {
     "name": "stdout",
     "output_type": "stream",
     "text": [
      "0.23602568103188665\n"
     ]
    }
   ],
   "source": [
    "# f analysis\n",
    "\n",
    "best_dq = integrate.quad(lambda q: q**.25 , .6, 1)\n",
    "best_dloga = integrate.quad(lambda x: log_normal_pdf(x, 1.582, 0.946) , np.log10(0.04), np.log10(10000))\n",
    "best_f = 0.629 * best_dq[0] * best_dloga[0]\n",
    "print(best_f)\n",
    "# print(f_cube[.629][.946][1.582])"
   ]
  },
  {
   "cell_type": "code",
   "execution_count": 140,
   "metadata": {},
   "outputs": [
    {
     "name": "stdout",
     "output_type": "stream",
     "text": [
      "0.060903021266962176 0.060903021266962176\n"
     ]
    },
    {
     "data": {
      "image/png": "[encoded data removed]",
      "text/plain": [
       "<Figure size 432x288 with 1 Axes>"
      ]
     },
     "metadata": {
      "needs_background": "light"
     },
     "output_type": "display_data"
    },
    {
     "name": "stdout",
     "output_type": "stream",
     "text": [
      "[4.32191322e-12 1.93233306e-09 6.38652688e-06 8.85219626e-04\n",
      " 2.30289999e-02 1.52335587e-01 3.31246059e-01 3.12539061e-01\n",
      " 1.49038079e-01 3.09206056e-02]\n",
      "[0.         0.03397917 0.06795835 0.10193752 0.13591669 0.16989586\n",
      " 0.20387504 0.23785421 0.27183338 0.30581256 0.33979173]\n",
      "0.24007166839002123\n",
      "0.237932438835242\n"
     ]
    }
   ],
   "source": [
    "prob = np.reshape(prob_cube, len(mu_range) * len(sigma_range) * len(A_range))\n",
    "norm_const = (1 / sum(prob))\n",
    "norm_prob = norm_const * prob\n",
    "\n",
    "f = np.reshape(f_cube, len(mu_range) * len(sigma_range) * len(A_range))\n",
    "\n",
    "def centers(arr):\n",
    "    x = np.zeros(len(arr) - 1)\n",
    "    for i in range(len(x)):\n",
    "        x[i] = np.mean((arr[i], arr[i + 1]))\n",
    "    return(x)\n",
    "\n",
    "(n, bins, patches) = plt.hist(f, weights = norm_prob, bins = 10)\n",
    "\n",
    "centered_bins = centers(bins)\n",
    "\n",
    "mu = sum(centered_bins * n)\n",
    "sd = np.sqrt(sum(n * (centered_bins - mu)**2))\n",
    "lower = best_f - 1.645 * sd\n",
    "upper = best_f + 1.645 * sd\n",
    "print(best_f - lower, upper - best_f)\n",
    "\n",
    "plt.axvline(x = best_f, color = \"red\")\n",
    "plt.xlim(0, .35)\n",
    "plt.show()\n",
    "\n",
    "print(n)\n",
    "print(bins)\n",
    "print(np.average(f, weights = norm_prob))\n",
    "print(np.average(centered_bins, weights = n))"
   ]
  },
  {
   "cell_type": "code",
   "execution_count": 116,
   "metadata": {},
   "outputs": [
    {
     "data": {
      "text/plain": [
       "0.3397917297053658"
      ]
     },
     "execution_count": 116,
     "metadata": {},
     "output_type": "execute_result"
    }
   ],
   "source": [
    "max(f)"
   ]
  },
  {
   "cell_type": "code",
   "execution_count": 76,
   "metadata": {},
   "outputs": [
    {
     "data": {
      "image/png": "[encoded data removed]",
      "text/plain": [
       "<Figure size 432x288 with 1 Axes>"
      ]
     },
     "metadata": {
      "needs_background": "light"
     },
     "output_type": "display_data"
    }
   ],
   "source": [
    "plt.plot(centered_bins, np.cumsum(n))\n",
    "plt.axhline(.05)\n",
    "plt.axhline(.95)\n",
    "plt.axvline(lower)\n",
    "plt.axvline(upper)\n",
    "plt.show()"
   ]
  },
  {
   "cell_type": "code",
   "execution_count": 137,
   "metadata": {},
   "outputs": [
    {
     "name": "stdout",
     "output_type": "stream",
     "text": [
      "11\n"
     ]
    }
   ],
   "source": [
    "print(len(bins))"
   ]
  },
  {
   "cell_type": "code",
   "execution_count": 8,
   "metadata": {},
   "outputs": [
    {
     "name": "stdout",
     "output_type": "stream",
     "text": [
      "[-0.33979173 -0.30890157 -0.27801142 -0.24712126 -0.2162311  -0.18534094\n",
      " -0.15445079 -0.12356063 -0.09267047 -0.06178031 -0.03089016  0.\n",
      "  0.03089016  0.06178031  0.09267047  0.12356063  0.15445079  0.18534094\n",
      "  0.2162311   0.24712126  0.27801142  0.30890157  0.33979173]\n",
      "2.413528314402514e-18\n",
      "23\n"
     ]
    },
    {
     "data": {
      "image/png": "[encoded data removed]",
      "text/plain": [
       "<Figure size 432x288 with 1 Axes>"
      ]
     },
     "metadata": {
      "needs_background": "light"
     },
     "output_type": "display_data"
    },
    {
     "name": "stdout",
     "output_type": "stream",
     "text": [
      "[-0.33979173 -0.27183338 -0.20387504 -0.13591669 -0.06795835  0.\n",
      "  0.06795835  0.13591669  0.20387504  0.27183338  0.33979173]\n",
      "1.5139404881252134e-17\n",
      "11\n"
     ]
    },
    {
     "data": {
      "image/png": "[encoded data removed]",
      "text/plain": [
       "<Figure size 432x288 with 1 Axes>"
      ]
     },
     "metadata": {
      "needs_background": "light"
     },
     "output_type": "display_data"
    }
   ],
   "source": [
    "hist1 = plt.hist(f, weights = norm_prob, bins = 22)\n",
    "print(hist1[1])\n",
    "print(np.mean(hist1[1]))\n",
    "print(len(hist1[1]))\n",
    "plt.show()\n",
    "\n",
    "hist2 = plt.hist(f, weights = norm_prob)\n",
    "print(hist2[1])\n",
    "print(np.mean(hist2[1]))\n",
    "print(len(hist2[1]))\n",
    "plt.show()"
   ]
  },
  {
   "cell_type": "code",
   "execution_count": 9,
   "metadata": {},
   "outputs": [
    {
     "data": {
      "image/png": "[encoded data removed]",
      "text/plain": [
       "<Figure size 432x288 with 1 Axes>"
      ]
     },
     "metadata": {
      "needs_background": "light"
     },
     "output_type": "display_data"
    },
    {
     "data": {
      "text/plain": [
       "5"
      ]
     },
     "execution_count": 9,
     "metadata": {},
     "output_type": "execute_result"
    }
   ],
   "source": [
    "np.random.seed(1)\n",
    "x = np.random.normal(1, 1, 42000)\n",
    "\n",
    "(n, bins, patches) = plt.hist(x, bins = 4)\n",
    "plt.show()\n",
    "len(bins)"
   ]
  },
  {
   "cell_type": "code",
   "execution_count": 64,
   "metadata": {},
   "outputs": [
    {
     "data": {
      "text/plain": [
       "array([0., 0., 0., 0., 0., 0., 0., 0., 0., 0., 0., 0., 0., 0., 0., 0., 0.,\n",
       "       0., 0., 0., 0., 0., 0., 0., 0., 0., 0., 0., 0., 0., 0., 0., 0., 0.,\n",
       "       0., 0., 0., 0., 0., 0., 0., 0.])"
      ]
     },
     "execution_count": 64,
     "metadata": {},
     "output_type": "execute_result"
    }
   ],
   "source": [
    "a = np.zeros([1, 6, 7])\n",
    "a = np.reshape(a, 1 * 6 * 7)\n",
    "# f_cube.shape\n",
    "a"
   ]
  }
 ],
 "metadata": {
  "kernelspec": {
   "display_name": "Python 3",
   "language": "python",
   "name": "python3"
  }
 },
 "nbformat": 4,
 "nbformat_minor": 2
}
