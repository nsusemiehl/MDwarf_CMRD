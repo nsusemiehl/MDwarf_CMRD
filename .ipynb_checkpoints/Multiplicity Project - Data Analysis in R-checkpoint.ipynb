{
 "cells": [
  {
   "cell_type": "code",
   "execution_count": 46,
   "metadata": {},
   "outputs": [],
   "source": [
    "library(tidyverse)\n",
    "q_limit = .6"
   ]
  },
  {
   "cell_type": "code",
   "execution_count": 57,
   "metadata": {},
   "outputs": [
    {
     "name": "stderr",
     "output_type": "stream",
     "text": [
      "Parsed with column specification:\n",
      "cols(\n",
      "  N1 = col_integer(),\n",
      "  N2 = col_integer(),\n",
      "  Karnm = col_character(),\n",
      "  Dist = col_double(),\n",
      "  rho = col_double(),\n",
      "  M1 = col_double(),\n",
      "  M2 = col_double(),\n",
      "  SpType = col_double()\n",
      ")\n"
     ]
    }
   ],
   "source": [
    "# Cortes-Contreras et. al. 2016 (CC)\n",
    "\n",
    "CC_data = read_csv(\"./data/cc_data.txt\")\n",
    "# summary(CC_data)\n",
    "\n",
    "N_CC = 490\n",
    "min_sep_limit_CC = 2.6\n",
    "max_sep_limit_CC = 29.5\n",
    "CC_data_filtered = CC_data %>% \n",
    "    drop_na() %>%\n",
    "    mutate(sep = rho * Dist) %>%\n",
    "    mutate(q = M2 / M1) %>% \n",
    "    filter((q >= q_limit) & (sep >= min_sep_limit_CC) & (sep <= max_sep_limit_CC)) \n",
    "\n",
    "f_CC = CC_data_filtered %>% nrow() / N_CC\n",
    "\n",
    "comp_CC = round(f_CC * N_CC)\n",
    "e_CC = sqrt(comp_CC) / N_CC\n",
    "\n",
    "min_sep_CC = min(CC_data_filtered$sep)\n",
    "max_sep_CC = max(CC_data_filtered$sep)\n",
    "mean_prim_mass_CC = mean(CC_data_filtered$M1)"
   ]
  },
  {
   "cell_type": "code",
   "execution_count": 48,
   "metadata": {},
   "outputs": [
    {
     "name": "stderr",
     "output_type": "stream",
     "text": [
      "Parsed with column specification:\n",
      "cols(\n",
      "  P = col_double(),\n",
      "  e = col_double(),\n",
      "  w = col_double(),\n",
      "  K1 = col_double(),\n",
      "  K2 = col_double(),\n",
      "  V0 = col_double(),\n",
      "  M1 = col_double(),\n",
      "  M2 = col_double(),\n",
      "  rho = col_double()\n",
      ")\n"
     ]
    },
    {
     "data": {
      "text/html": [
       "4.63044906685441"
      ],
      "text/latex": [
       "4.63044906685441"
      ],
      "text/markdown": [
       "4.63044906685441"
      ],
      "text/plain": [
       "[1] 4.630449"
      ]
     },
     "metadata": {},
     "output_type": "display_data"
    }
   ],
   "source": [
    "# Delfosse et. al. 1998 (Del)\n",
    "\n",
    "Del_data = read_csv(\"./data/Del_data.txt\") # P (days), K (km/s), M (Msun)\n",
    "# summary(Del_data)\n",
    "\n",
    "N_Del = 127\n",
    "min_sep_limit_Del = 0\n",
    "\n",
    "G = 6.67e-8 # G in cgs\n",
    "\n",
    "# calculation of separation limit based off Kepler's Laws\n",
    "t = 6.307e+8 # 20 years in seconds\n",
    "mean_mass = mean(Del_data$M1) * 1.989*10^33 # conversion to grams\n",
    "max_sep_limit_Del = (((t^2 * G * (mean_mass))/(4*pi^2))^(1/3)) / 1.496e+13 # sep_limit = 4.6\n",
    "\n",
    "Del_data_filtered = Del_data %>% \n",
    "    drop_na() %>%\n",
    "    mutate(q = M2 / M1) %>% \n",
    "    mutate(K1 = K1 *  100000, K2 = K2 *  100000) %>% # conversion from km/s to cm/s\n",
    "    mutate(P = P * 86400) %>% # conversion from days to seconds\n",
    "    mutate(sep = ((P^2 * G * (M1 + M2))/(4*pi^2))^(1/3)) %>% # Kepler's Third Law calculation\n",
    "    mutate(sep = sep / 1.496e+13) %>% # conversion from cm to AU\n",
    "    filter((q >= q_limit) & (sep >= min_sep_limit_Del) & (sep <= max_sep_limit_Del)) \n",
    "\n",
    "f_Del = Del_data_filtered %>% nrow() / N_Del\n",
    "\n",
    "comp_Del = round(f_Del * N_Del)\n",
    "e_Del = sqrt(comp_Del) / N_Del\n",
    "\n",
    "min_sep_Del = min(Del_data_filtered$sep)\n",
    "max_sep_Del = max(Del_data_filtered$sep)\n",
    "mean_prim_mass_Del = mean(Del_data_filtered$M1)"
   ]
  },
  {
   "cell_type": "code",
   "execution_count": 41,
   "metadata": {},
   "outputs": [
    {
     "name": "stderr",
     "output_type": "stream",
     "text": [
      "Parsed with column specification:\n",
      "cols(\n",
      "  sep = col_double(),\n",
      "  m1 = col_double(),\n",
      "  m2 = col_double()\n",
      ")\n"
     ]
    }
   ],
   "source": [
    "# Fischer & Marcy 1992\n",
    "\n",
    "FM_data = read_csv(\"./data/FM_data.txt\")\n",
    "# summary(FM_data)\n",
    "\n",
    "N_FM = 72\n",
    "min_sep_limit_FM = .04\n",
    "max_sep_limit_FM = 4\n",
    "FM_data_filtered = FM_data %>% \n",
    "    drop_na() %>%\n",
    "    mutate(q = m2 / m1) %>% \n",
    "    filter((q >= q_limit) & (sep >= min_sep_limit_FM) & (sep <= max_sep_limit_FM))\n",
    "\n",
    "f_FM = FM_data_filtered %>% nrow() / N_FM\n",
    "\n",
    "comp_FM = round(f_FM * N_FM)\n",
    "e_FM = sqrt(comp_FM) / N_FM\n",
    "\n",
    "min_sep_FM = min(FM_data_filtered$sep)\n",
    "max_sep_FM = max(FM_data_filtered$sep)\n",
    "mean_prim_mass_FM = mean(FM_data_filtered$m1)"
   ]
  },
  {
   "cell_type": "code",
   "execution_count": 59,
   "metadata": {},
   "outputs": [
    {
     "name": "stderr",
     "output_type": "stream",
     "text": [
      "Parsed with column specification:\n",
      "cols(\n",
      "  Sp1 = col_character(),\n",
      "  Sp2 = col_character(),\n",
      "  M1 = col_double(),\n",
      "  M2 = col_double(),\n",
      "  psep = col_double(),\n",
      "  e_psep = col_double()\n",
      ")\n"
     ]
    }
   ],
   "source": [
    "# Janson et. al. 2012 (Jan)\n",
    "\n",
    "Jan_data = read_csv(\"./data/Jan_data.txt\")\n",
    "# summary(Jan_data)\n",
    "\n",
    "N_Jan = 701\n",
    "min_sep_limit_Jan = 3\n",
    "max_sep_limit_Jan = 227\n",
    "Jan_data_filtered = Jan_data %>% \n",
    "    drop_na() %>%\n",
    "    mutate(q = M2 / M1) %>% \n",
    "    filter((q >= q_limit) & \n",
    "           (psep >= min_sep_limit_Jan) & \n",
    "           (psep <= max_sep_limit_Jan) & \n",
    "           grepl(\"M\", Sp1) & \n",
    "           grepl(\"M\", Sp2))\n",
    "\n",
    "f_Jan = Jan_data_filtered %>% nrow() / N_Jan\n",
    "\n",
    "comp_Jan = round(f_Jan * N_Jan)\n",
    "e_Jan = sqrt(comp_Jan) / N_Jan\n",
    "\n",
    "min_sep_Jan = min(Jan_data_filtered$psep)\n",
    "max_sep_Jan = max(Jan_data_filtered$psep)\n",
    "mean_prim_mass_Jan = mean(Jan_data_filtered$M1)"
   ]
  },
  {
   "cell_type": "code",
   "execution_count": 58,
   "metadata": {},
   "outputs": [
    {
     "name": "stderr",
     "output_type": "stream",
     "text": [
      "Parsed with column specification:\n",
      "cols(\n",
      "  HIP = col_integer(),\n",
      "  aproj = col_double(),\n",
      "  Mprim = col_double(),\n",
      "  Msec = col_double(),\n",
      "  SpType = col_character()\n",
      ")\n"
     ]
    }
   ],
   "source": [
    "# Ward-Duong et. al 2015 (WD)\n",
    "\n",
    "WD_data = read_csv(\"./data/WD_data.txt\")\n",
    "# summary(WD_data)\n",
    "N_WD = 232\n",
    "min_sep_limit_WD = 3\n",
    "max_sep_limit_WD = 10000\n",
    "WD_data_filtered = WD_data %>% \n",
    "    drop_na() %>%\n",
    "    mutate(q = Msec / Mprim) %>% \n",
    "    filter((q >= q_limit) & \n",
    "           (aproj >= min_sep_limit_WD) & \n",
    "           (aproj <= max_sep_limit_WD) & \n",
    "           (grepl(\"M\", SpType))) \n",
    "\n",
    "f_WD = WD_data_filtered %>% nrow() / N_WD\n",
    "\n",
    "comp_WD = round(f_WD * N_WD)\n",
    "e_WD = sqrt(comp_WD) / N_WD\n",
    "\n",
    "min_sep_WD = min(WD_data_filtered$aproj)\n",
    "max_sep_WD = max(WD_data_filtered$aproj)\n",
    "mean_prim_mass_WD = mean(WD_data_filtered$Mprim)"
   ]
  },
  {
   "cell_type": "code",
   "execution_count": 45,
   "metadata": {},
   "outputs": [],
   "source": [
    "# Shwartzvald et at. 2016 (SV)\n",
    "\n",
    "N_SV = 224\n",
    "f_SV = .08\n",
    "\n",
    "comp_SV = round(f_SV * N_SV)\n",
    "e_SV = sqrt(comp_SV) / N_SV\n",
    "\n",
    "min_sep_limit_SV = min_sep_SV = 1\n",
    "max_sep_limit_SV = max_sep_SV = 10\n",
    "mean_prim_mass_SV = NA"
   ]
  },
  {
   "cell_type": "code",
   "execution_count": 77,
   "metadata": {},
   "outputs": [
    {
     "data": {
      "text/html": [
       "TRUE"
      ],
      "text/latex": [
       "TRUE"
      ],
      "text/markdown": [
       "TRUE"
      ],
      "text/plain": [
       "[1] TRUE"
      ]
     },
     "metadata": {},
     "output_type": "display_data"
    },
    {
     "ename": "ERROR",
     "evalue": "Error in writeLines(c(i, j, i), f): invalid 'text' argument\n",
     "output_type": "error",
     "traceback": [
      "Error in writeLines(c(i, j, i), f): invalid 'text' argument\nTraceback:\n",
      "1. writeLines(c(i, j, i), f)"
     ]
    }
   ],
   "source": [
    "i = j = k = 9\n",
    "file.create(\"sample.py\")\n",
    "f <- file(\"sample.py\")\n",
    "writeLines(c(i,j, i), f)\n",
    "close(f)\n",
    "file.show(\"sample.py\")"
   ]
  },
  {
   "cell_type": "code",
   "execution_count": 78,
   "metadata": {},
   "outputs": [],
   "source": [
    "?writeLines"
   ]
  }
 ],
 "metadata": {
  "kernelspec": {
   "display_name": "R",
   "language": "R",
   "name": "ir"
  },
  "language_info": {
   "codemirror_mode": "r",
   "file_extension": ".r",
   "mimetype": "text/x-r-source",
   "name": "R",
   "pygments_lexer": "r",
   "version": "3.5.1"
  }
 },
 "nbformat": 4,
 "nbformat_minor": 2
}
